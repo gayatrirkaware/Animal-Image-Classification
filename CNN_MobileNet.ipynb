{
  "cells": [
    {
      "cell_type": "code",
      "execution_count": 26,
      "metadata": {
        "colab": {
          "base_uri": "https://localhost:8080/",
          "height": 90
        },
        "id": "G6uAq3YAi5kI",
        "outputId": "a86588c3-275f-467c-b411-4ce63928dcb8"
      },
      "outputs": [
        {
          "output_type": "display_data",
          "data": {
            "text/plain": [
              "<IPython.core.display.HTML object>"
            ],
            "text/html": [
              "\n",
              "     <input type=\"file\" id=\"files-59d51bc8-2df5-4c60-8962-c69ba75961bb\" name=\"files[]\" multiple disabled\n",
              "        style=\"border:none\" />\n",
              "     <output id=\"result-59d51bc8-2df5-4c60-8962-c69ba75961bb\">\n",
              "      Upload widget is only available when the cell has been executed in the\n",
              "      current browser session. Please rerun this cell to enable.\n",
              "      </output>\n",
              "      <script>// Copyright 2017 Google LLC\n",
              "//\n",
              "// Licensed under the Apache License, Version 2.0 (the \"License\");\n",
              "// you may not use this file except in compliance with the License.\n",
              "// You may obtain a copy of the License at\n",
              "//\n",
              "//      http://www.apache.org/licenses/LICENSE-2.0\n",
              "//\n",
              "// Unless required by applicable law or agreed to in writing, software\n",
              "// distributed under the License is distributed on an \"AS IS\" BASIS,\n",
              "// WITHOUT WARRANTIES OR CONDITIONS OF ANY KIND, either express or implied.\n",
              "// See the License for the specific language governing permissions and\n",
              "// limitations under the License.\n",
              "\n",
              "/**\n",
              " * @fileoverview Helpers for google.colab Python module.\n",
              " */\n",
              "(function(scope) {\n",
              "function span(text, styleAttributes = {}) {\n",
              "  const element = document.createElement('span');\n",
              "  element.textContent = text;\n",
              "  for (const key of Object.keys(styleAttributes)) {\n",
              "    element.style[key] = styleAttributes[key];\n",
              "  }\n",
              "  return element;\n",
              "}\n",
              "\n",
              "// Max number of bytes which will be uploaded at a time.\n",
              "const MAX_PAYLOAD_SIZE = 100 * 1024;\n",
              "\n",
              "function _uploadFiles(inputId, outputId) {\n",
              "  const steps = uploadFilesStep(inputId, outputId);\n",
              "  const outputElement = document.getElementById(outputId);\n",
              "  // Cache steps on the outputElement to make it available for the next call\n",
              "  // to uploadFilesContinue from Python.\n",
              "  outputElement.steps = steps;\n",
              "\n",
              "  return _uploadFilesContinue(outputId);\n",
              "}\n",
              "\n",
              "// This is roughly an async generator (not supported in the browser yet),\n",
              "// where there are multiple asynchronous steps and the Python side is going\n",
              "// to poll for completion of each step.\n",
              "// This uses a Promise to block the python side on completion of each step,\n",
              "// then passes the result of the previous step as the input to the next step.\n",
              "function _uploadFilesContinue(outputId) {\n",
              "  const outputElement = document.getElementById(outputId);\n",
              "  const steps = outputElement.steps;\n",
              "\n",
              "  const next = steps.next(outputElement.lastPromiseValue);\n",
              "  return Promise.resolve(next.value.promise).then((value) => {\n",
              "    // Cache the last promise value to make it available to the next\n",
              "    // step of the generator.\n",
              "    outputElement.lastPromiseValue = value;\n",
              "    return next.value.response;\n",
              "  });\n",
              "}\n",
              "\n",
              "/**\n",
              " * Generator function which is called between each async step of the upload\n",
              " * process.\n",
              " * @param {string} inputId Element ID of the input file picker element.\n",
              " * @param {string} outputId Element ID of the output display.\n",
              " * @return {!Iterable<!Object>} Iterable of next steps.\n",
              " */\n",
              "function* uploadFilesStep(inputId, outputId) {\n",
              "  const inputElement = document.getElementById(inputId);\n",
              "  inputElement.disabled = false;\n",
              "\n",
              "  const outputElement = document.getElementById(outputId);\n",
              "  outputElement.innerHTML = '';\n",
              "\n",
              "  const pickedPromise = new Promise((resolve) => {\n",
              "    inputElement.addEventListener('change', (e) => {\n",
              "      resolve(e.target.files);\n",
              "    });\n",
              "  });\n",
              "\n",
              "  const cancel = document.createElement('button');\n",
              "  inputElement.parentElement.appendChild(cancel);\n",
              "  cancel.textContent = 'Cancel upload';\n",
              "  const cancelPromise = new Promise((resolve) => {\n",
              "    cancel.onclick = () => {\n",
              "      resolve(null);\n",
              "    };\n",
              "  });\n",
              "\n",
              "  // Wait for the user to pick the files.\n",
              "  const files = yield {\n",
              "    promise: Promise.race([pickedPromise, cancelPromise]),\n",
              "    response: {\n",
              "      action: 'starting',\n",
              "    }\n",
              "  };\n",
              "\n",
              "  cancel.remove();\n",
              "\n",
              "  // Disable the input element since further picks are not allowed.\n",
              "  inputElement.disabled = true;\n",
              "\n",
              "  if (!files) {\n",
              "    return {\n",
              "      response: {\n",
              "        action: 'complete',\n",
              "      }\n",
              "    };\n",
              "  }\n",
              "\n",
              "  for (const file of files) {\n",
              "    const li = document.createElement('li');\n",
              "    li.append(span(file.name, {fontWeight: 'bold'}));\n",
              "    li.append(span(\n",
              "        `(${file.type || 'n/a'}) - ${file.size} bytes, ` +\n",
              "        `last modified: ${\n",
              "            file.lastModifiedDate ? file.lastModifiedDate.toLocaleDateString() :\n",
              "                                    'n/a'} - `));\n",
              "    const percent = span('0% done');\n",
              "    li.appendChild(percent);\n",
              "\n",
              "    outputElement.appendChild(li);\n",
              "\n",
              "    const fileDataPromise = new Promise((resolve) => {\n",
              "      const reader = new FileReader();\n",
              "      reader.onload = (e) => {\n",
              "        resolve(e.target.result);\n",
              "      };\n",
              "      reader.readAsArrayBuffer(file);\n",
              "    });\n",
              "    // Wait for the data to be ready.\n",
              "    let fileData = yield {\n",
              "      promise: fileDataPromise,\n",
              "      response: {\n",
              "        action: 'continue',\n",
              "      }\n",
              "    };\n",
              "\n",
              "    // Use a chunked sending to avoid message size limits. See b/62115660.\n",
              "    let position = 0;\n",
              "    do {\n",
              "      const length = Math.min(fileData.byteLength - position, MAX_PAYLOAD_SIZE);\n",
              "      const chunk = new Uint8Array(fileData, position, length);\n",
              "      position += length;\n",
              "\n",
              "      const base64 = btoa(String.fromCharCode.apply(null, chunk));\n",
              "      yield {\n",
              "        response: {\n",
              "          action: 'append',\n",
              "          file: file.name,\n",
              "          data: base64,\n",
              "        },\n",
              "      };\n",
              "\n",
              "      let percentDone = fileData.byteLength === 0 ?\n",
              "          100 :\n",
              "          Math.round((position / fileData.byteLength) * 100);\n",
              "      percent.textContent = `${percentDone}% done`;\n",
              "\n",
              "    } while (position < fileData.byteLength);\n",
              "  }\n",
              "\n",
              "  // All done.\n",
              "  yield {\n",
              "    response: {\n",
              "      action: 'complete',\n",
              "    }\n",
              "  };\n",
              "}\n",
              "\n",
              "scope.google = scope.google || {};\n",
              "scope.google.colab = scope.google.colab || {};\n",
              "scope.google.colab._files = {\n",
              "  _uploadFiles,\n",
              "  _uploadFilesContinue,\n",
              "};\n",
              "})(self);\n",
              "</script> "
            ]
          },
          "metadata": {}
        },
        {
          "output_type": "stream",
          "name": "stdout",
          "text": [
            "Saving animal_data.zip to animal_data (2).zip\n",
            "Extraction complete!\n"
          ]
        }
      ],
      "source": [
        "from google.colab import files\n",
        "import zipfile\n",
        "import os\n",
        "\n",
        "# Upload ZIP file\n",
        "uploaded = files.upload()  # Browse and select the ZIP file\n",
        "\n",
        "# Extract the uploaded zip file (assuming it's named 'animal_data.zip')\n",
        "with zipfile.ZipFile(\"animal_data.zip\", 'r') as zip_ref:\n",
        "    zip_ref.extractall(\"animal_data_file\")  # Extracts to a folder in current directory\n",
        "\n",
        "print(\"Extraction complete!\")\n"
      ]
    },
    {
      "cell_type": "markdown",
      "source": [],
      "metadata": {
        "id": "_dP3eWcKmYAl"
      }
    },
    {
      "cell_type": "code",
      "source": [
        "import tensorflow as tf\n",
        "from tensorflow.keras.applications import MobileNet\n",
        "from tensorflow.keras.models import Sequential\n",
        "from tensorflow.keras.layers import Dense, Dropout, GlobalAveragePooling2D\n",
        "from tensorflow.keras.preprocessing.image import ImageDataGenerator\n",
        "from tensorflow.keras import regularizers\n",
        "from tensorflow.keras.callbacks import EarlyStopping\n",
        "import keras_tuner as kt\n",
        "import os\n"
      ],
      "metadata": {
        "id": "0xOB9po7mRy8"
      },
      "execution_count": 30,
      "outputs": []
    },
    {
      "cell_type": "markdown",
      "source": [
        "**1. Problem Statement**"
      ],
      "metadata": {
        "id": "BvxwFPlHmjKa"
      }
    },
    {
      "cell_type": "code",
      "source": [
        "# To detect animal name via image"
      ],
      "metadata": {
        "id": "WrQSc25Jmpoa"
      },
      "execution_count": null,
      "outputs": []
    },
    {
      "cell_type": "markdown",
      "source": [
        "**2. Data preprocessing (No augmentation)**"
      ],
      "metadata": {
        "id": "twQ1Vn9um1Pp"
      }
    },
    {
      "cell_type": "code",
      "source": [
        "image_size = (224, 224)\n",
        "batch_size = 32\n",
        "\n",
        "datagen = ImageDataGenerator(\n",
        "    rescale=1./255,\n",
        "    validation_split=0.2\n",
        ")\n",
        "\n",
        "train_generator = datagen.flow_from_directory(\n",
        "    \"animal_data_file/animal_data\",\n",
        "    target_size=image_size,\n",
        "    batch_size=batch_size,\n",
        "    class_mode=\"categorical\",\n",
        "    subset=\"training\",\n",
        "    shuffle=True\n",
        ")\n",
        "\n",
        "val_generator = datagen.flow_from_directory(\n",
        "    \"animal_data_file/animal_data\",\n",
        "    target_size=image_size,\n",
        "    batch_size=batch_size,\n",
        "    class_mode=\"categorical\",\n",
        "    subset=\"validation\",\n",
        "    shuffle=False\n",
        ")\n",
        "\n",
        "num_classes = train_generator.num_classes"
      ],
      "metadata": {
        "colab": {
          "base_uri": "https://localhost:8080/"
        },
        "id": "QrGxDfIumyXA",
        "outputId": "91a27a1b-81b9-4a9c-84f2-bd920f0ae8f2"
      },
      "execution_count": 32,
      "outputs": [
        {
          "output_type": "stream",
          "name": "stdout",
          "text": [
            "Found 1561 images belonging to 15 classes.\n",
            "Found 383 images belonging to 15 classes.\n"
          ]
        }
      ]
    },
    {
      "cell_type": "markdown",
      "source": [
        "**3. Hypermodel using MobileNet**"
      ],
      "metadata": {
        "id": "jZ67oqylnHXX"
      }
    },
    {
      "cell_type": "code",
      "source": [
        "def build_cnn_model(hp):\n",
        "    base_model = MobileNet(include_top=False, weights='imagenet', input_shape=image_size + (3,))\n",
        "    base_model.trainable = False  # Freeze base\n",
        "\n",
        "    model = Sequential()\n",
        "    model.add(base_model)\n",
        "    model.add(GlobalAveragePooling2D())\n",
        "\n",
        "    units = hp.Int(\"units\", min_value=64, max_value=256, step=32)\n",
        "    model.add(Dense(\n",
        "        units=units,\n",
        "        activation=hp.Choice(\"activation\", ['relu', 'tanh']),\n",
        "        kernel_initializer=hp.Choice(\"initializer\", ['glorot_uniform', 'he_normal']),\n",
        "        kernel_regularizer=regularizers.l2(\n",
        "            hp.Float(\"lambda\", 1e-4, 1e-2, sampling='log'))\n",
        "    ))\n",
        "\n",
        "    model.add(Dropout(hp.Float(\"dropout\", 0.2, 0.5, step=0.1)))\n",
        "    model.add(Dense(num_classes, activation='softmax'))\n",
        "\n",
        "    learning_rate = hp.Float(\"learning_rate\", 1e-4, 1e-2, sampling='log')\n",
        "    optimizer_choice = hp.Choice(\"optimizer\", ['adam', 'sgd', 'rmsprop'])\n",
        "\n",
        "    if optimizer_choice == 'adam':\n",
        "        optimizer = tf.keras.optimizers.Adam(learning_rate)\n",
        "    elif optimizer_choice == 'sgd':\n",
        "        optimizer = tf.keras.optimizers.SGD(learning_rate)\n",
        "    else:\n",
        "        optimizer = tf.keras.optimizers.RMSprop(learning_rate)\n",
        "\n",
        "    model.compile(\n",
        "        optimizer=optimizer,\n",
        "        loss='categorical_crossentropy',\n",
        "        metrics=['accuracy']\n",
        "    )\n",
        "    return model\n"
      ],
      "metadata": {
        "id": "ULMaPfkfmyzY"
      },
      "execution_count": 34,
      "outputs": []
    },
    {
      "cell_type": "markdown",
      "source": [
        "**4. Keras Tuner Setup**"
      ],
      "metadata": {
        "id": "GhdKNqaKnXIG"
      }
    },
    {
      "cell_type": "code",
      "source": [
        "tuner = kt.RandomSearch(\n",
        "    build_cnn_model,\n",
        "    objective='val_loss',\n",
        "    max_trials=10,\n",
        "    executions_per_trial=1,\n",
        "    directory='cnn_tuning',\n",
        "    project_name='mobilenet_model'\n",
        ")\n",
        "\n",
        "early_stop = EarlyStopping(monitor='val_loss', patience=5)"
      ],
      "metadata": {
        "id": "jdYPGKCunaFN"
      },
      "execution_count": 35,
      "outputs": []
    },
    {
      "cell_type": "markdown",
      "source": [
        "**5. Start tuning**"
      ],
      "metadata": {
        "id": "_BE-oxlAne1G"
      }
    },
    {
      "cell_type": "code",
      "source": [
        "tuner.search(\n",
        "    train_generator,\n",
        "    validation_data=val_generator,\n",
        "    epochs=10,\n",
        "    callbacks=[early_stop],\n",
        "    verbose=2\n",
        ")"
      ],
      "metadata": {
        "colab": {
          "base_uri": "https://localhost:8080/"
        },
        "id": "U2MF6-6ankQF",
        "outputId": "7fc8c878-f865-4108-c5e9-716a6ce4f9d3"
      },
      "execution_count": 36,
      "outputs": [
        {
          "output_type": "stream",
          "name": "stdout",
          "text": [
            "Trial 10 Complete [00h 00m 48s]\n",
            "val_loss: 0.39432650804519653\n",
            "\n",
            "Best val_loss So Far: 0.20354406535625458\n",
            "Total elapsed time: 00h 08m 30s\n"
          ]
        }
      ]
    },
    {
      "cell_type": "markdown",
      "source": [
        "**6. Save best model**"
      ],
      "metadata": {
        "id": "2uQlBaEHnu3s"
      }
    },
    {
      "cell_type": "code",
      "source": [
        "best_model = tuner.get_best_models(1)[0]\n",
        "best_hyperparams = tuner.get_best_hyperparameters(1)[0]\n",
        "\n",
        "print(\"\\nBest Hyperparameters:\")\n",
        "print(best_hyperparams.values)\n",
        "\n",
        "if not os.path.exists(\"model\"):\n",
        "    os.mkdir(\"model\")\n",
        "\n",
        "best_model.save(\"model/mobilenet_best_tuned_model.h5\")"
      ],
      "metadata": {
        "colab": {
          "base_uri": "https://localhost:8080/"
        },
        "id": "atFrJIr_ny5r",
        "outputId": "75f2587d-fe06-4a33-83bf-f8c3ce5daccf"
      },
      "execution_count": 37,
      "outputs": [
        {
          "output_type": "stream",
          "name": "stderr",
          "text": [
            "/usr/local/lib/python3.11/dist-packages/keras/src/saving/saving_lib.py:757: UserWarning: Skipping variable loading for optimizer 'rmsprop', because it has 2 variables whereas the saved optimizer has 6 variables. \n",
            "  saveable.load_own_variables(weights_store.get(inner_path))\n",
            "WARNING:absl:You are saving your model as an HDF5 file via `model.save()` or `keras.saving.save_model(model)`. This file format is considered legacy. We recommend using instead the native Keras format, e.g. `model.save('my_model.keras')` or `keras.saving.save_model(model, 'my_model.keras')`. \n"
          ]
        },
        {
          "output_type": "stream",
          "name": "stdout",
          "text": [
            "\n",
            "Best Hyperparameters:\n",
            "{'units': 64, 'activation': 'relu', 'initializer': 'glorot_uniform', 'lambda': 0.0002136185900215609, 'dropout': 0.4, 'learning_rate': 0.002983193841558442, 'optimizer': 'rmsprop'}\n"
          ]
        }
      ]
    },
    {
      "cell_type": "markdown",
      "source": [
        "**Evaluation**"
      ],
      "metadata": {
        "id": "GiHYRth2opqn"
      }
    },
    {
      "cell_type": "code",
      "source": [
        "from sklearn.metrics import confusion_matrix, classification_report, accuracy_score\n",
        "import numpy as np\n",
        "\n",
        "# Predict the class probabilities\n",
        "y_pred_train_prob = best_model.predict(train_generator)\n",
        "\n",
        "# Get the predicted class index (highest probability)\n",
        "y_pred_train = np.argmax(y_pred_train_prob, axis=1)\n",
        "\n",
        "# Get the true class labels\n",
        "y_train = train_generator.classes\n",
        "\n",
        "# Print evaluation metrics\n",
        "print(\"Confusion Matrix:\")\n",
        "print(confusion_matrix(y_train, y_pred_train))\n",
        "\n",
        "print(\"\\nClassification Report:\")\n",
        "class_labels = list(train_generator.class_indices.keys())  # Get class names\n",
        "print(classification_report(y_train, y_pred_train, target_names=class_labels))\n"
      ],
      "metadata": {
        "colab": {
          "base_uri": "https://localhost:8080/"
        },
        "id": "6dPYe7din82K",
        "outputId": "cede5cf6-d519-4f67-e1ef-d37b1ae6e5f9"
      },
      "execution_count": 38,
      "outputs": [
        {
          "output_type": "stream",
          "name": "stdout",
          "text": [
            "\u001b[1m49/49\u001b[0m \u001b[32m━━━━━━━━━━━━━━━━━━━━\u001b[0m\u001b[37m\u001b[0m \u001b[1m6s\u001b[0m 88ms/step\n",
            "Confusion Matrix:\n",
            "[[ 5  8  6  7  6  4  2  6 11 11  4  6 11  8  5]\n",
            " [ 7  4  6  8  9  9  4 11 10  9  8  6  4 10  5]\n",
            " [13  7  5  7  6 10  8  6  8  5  5  4  5  5  5]\n",
            " [ 3 11  4  8  5  4  8  7  9 10  7  6  6  6 11]\n",
            " [ 8  4  4  6 10  2  8  7  7  4 10  9  5 10  8]\n",
            " [10  8  7  7  5  4  4  7  4  9  5  7  7  9  5]\n",
            " [ 3  6  7 10  8 10  8 11  4  3  5  5  7  9  8]\n",
            " [ 5 11  2  4  8  9  8  7  6  7  7  7  8  5 13]\n",
            " [ 5 11  8  6  8  7  3  7  6 10  7  6  4  8  8]\n",
            " [ 7  8  2  4  5 14  6  9 10  7  7  7  8  4  6]\n",
            " [ 3  6  9  5  6  3  8  7  5  6  8  6 12  7 10]\n",
            " [10  8  6  8 11  5 12  6  4  4  8  8  7  1  7]\n",
            " [ 4  9  9  9  4  9  6  5  5  6  4 10 11 11  6]\n",
            " [10  6  6  6 11  5  8  6  9  7  8  4  5  4  9]\n",
            " [ 8  5 14  9  4  5 11  5  5  7  6 12  8  7  4]]\n",
            "\n",
            "Classification Report:\n",
            "              precision    recall  f1-score   support\n",
            "\n",
            "        Bear       0.05      0.05      0.05       100\n",
            "        Bird       0.04      0.04      0.04       110\n",
            "         Cat       0.05      0.05      0.05        99\n",
            "         Cow       0.08      0.08      0.08       105\n",
            "        Deer       0.09      0.10      0.10       102\n",
            "         Dog       0.04      0.04      0.04        98\n",
            "     Dolphin       0.08      0.08      0.08       104\n",
            "    Elephant       0.07      0.07      0.07       107\n",
            "     Giraffe       0.06      0.06      0.06       104\n",
            "       Horse       0.07      0.07      0.07       104\n",
            "    Kangaroo       0.08      0.08      0.08       101\n",
            "        Lion       0.08      0.08      0.08       105\n",
            "       Panda       0.10      0.10      0.10       108\n",
            "       Tiger       0.04      0.04      0.04       104\n",
            "       Zebra       0.04      0.04      0.04       110\n",
            "\n",
            "    accuracy                           0.06      1561\n",
            "   macro avg       0.06      0.06      0.06      1561\n",
            "weighted avg       0.06      0.06      0.06      1561\n",
            "\n"
          ]
        }
      ]
    },
    {
      "cell_type": "code",
      "source": [
        "from tensorflow.keras.preprocessing.image import ImageDataGenerator\n",
        "\n",
        "\n",
        "test_datagen = ImageDataGenerator(rescale=1./255)\n",
        "\n",
        "test_generator = test_datagen.flow_from_directory(\n",
        "    'animal_data_file/animal_data',\n",
        "    target_size=(224, 224),\n",
        "    batch_size=32,\n",
        "    class_mode='categorical',\n",
        "    shuffle=False\n",
        ")\n"
      ],
      "metadata": {
        "colab": {
          "base_uri": "https://localhost:8080/"
        },
        "id": "E_XgIraQpv4Q",
        "outputId": "d80f7118-9536-4683-fcdf-79d6f3bb09dd"
      },
      "execution_count": 40,
      "outputs": [
        {
          "output_type": "stream",
          "name": "stdout",
          "text": [
            "Found 1944 images belonging to 15 classes.\n"
          ]
        }
      ]
    },
    {
      "cell_type": "code",
      "source": [
        "from sklearn.metrics import confusion_matrix, classification_report, accuracy_score\n",
        "import numpy as np\n",
        "\n",
        "# Step 1: Predict on test data\n",
        "y_pred_test_prob = best_model.predict(test_generator)\n",
        "\n",
        "# Step 2: Get the predicted class index (highest probability)\n",
        "y_pred_test = np.argmax(y_pred_test_prob, axis=1)\n",
        "\n",
        "# Step 3: Get the true class labels from the test generator\n",
        "y_test = test_generator.classes\n",
        "\n",
        "# Step 4: Class labels (same as training)\n",
        "class_labels = list(test_generator.class_indices.keys())\n",
        "\n",
        "# Step 5: Print metrics\n",
        "print(\"Confusion Matrix:\")\n",
        "print(confusion_matrix(y_test, y_pred_test))\n",
        "\n",
        "print(\"\\nClassification Report:\")\n",
        "print(classification_report(y_test, y_pred_test, target_names=class_labels))\n"
      ],
      "metadata": {
        "colab": {
          "base_uri": "https://localhost:8080/"
        },
        "id": "zHVVt2-Sn9J6",
        "outputId": "e1e82a23-3dda-4444-afee-c3688ff77b0a"
      },
      "execution_count": 41,
      "outputs": [
        {
          "output_type": "stream",
          "name": "stderr",
          "text": [
            "/usr/local/lib/python3.11/dist-packages/keras/src/trainers/data_adapters/py_dataset_adapter.py:121: UserWarning: Your `PyDataset` class should call `super().__init__(**kwargs)` in its constructor. `**kwargs` can include `workers`, `use_multiprocessing`, `max_queue_size`. Do not pass these arguments to `fit()`, as they will be ignored.\n",
            "  self._warn_if_super_not_called()\n"
          ]
        },
        {
          "output_type": "stream",
          "name": "stdout",
          "text": [
            "\u001b[1m61/61\u001b[0m \u001b[32m━━━━━━━━━━━━━━━━━━━━\u001b[0m\u001b[37m\u001b[0m \u001b[1m4s\u001b[0m 72ms/step\n",
            "Confusion Matrix:\n",
            "[[125   0   0   0   0   0   0   0   0   0   0   0   0   0   0]\n",
            " [  0 137   0   0   0   0   0   0   0   0   0   0   0   0   0]\n",
            " [  0   2 118   0   1   2   0   0   0   0   0   0   0   0   0]\n",
            " [  0   0   0 130   0   1   0   0   0   0   0   0   0   0   0]\n",
            " [  0   0   0   0 127   0   0   0   0   0   0   0   0   0   0]\n",
            " [  1   0   0   0   0 121   0   0   0   0   0   0   0   0   0]\n",
            " [  0   0   0   0   0   0 129   0   0   0   0   0   0   0   0]\n",
            " [  0   0   0   0   0   1   1 131   0   0   0   0   0   0   0]\n",
            " [  0   0   0   0   1   0   0   0 128   0   0   0   0   0   0]\n",
            " [  1   0   0   0   1   1   0   1   0 126   0   0   0   0   0]\n",
            " [  0   0   0   1   5   0   0   0   0   0 120   0   0   0   0]\n",
            " [  1   0   0   1   0   1   0   1   0   1   0 126   0   0   0]\n",
            " [  0   0   0   0   0   1   0   0   0   0   0   0 134   0   0]\n",
            " [  0   0   0   0   0   0   0   0   0   0   0   0   0 129   0]\n",
            " [  0   0   0   0   0   0   0   0   0   0   0   0   0   0 137]]\n",
            "\n",
            "Classification Report:\n",
            "              precision    recall  f1-score   support\n",
            "\n",
            "        Bear       0.98      1.00      0.99       125\n",
            "        Bird       0.99      1.00      0.99       137\n",
            "         Cat       1.00      0.96      0.98       123\n",
            "         Cow       0.98      0.99      0.99       131\n",
            "        Deer       0.94      1.00      0.97       127\n",
            "         Dog       0.95      0.99      0.97       122\n",
            "     Dolphin       0.99      1.00      1.00       129\n",
            "    Elephant       0.98      0.98      0.98       133\n",
            "     Giraffe       1.00      0.99      1.00       129\n",
            "       Horse       0.99      0.97      0.98       130\n",
            "    Kangaroo       1.00      0.95      0.98       126\n",
            "        Lion       1.00      0.96      0.98       131\n",
            "       Panda       1.00      0.99      1.00       135\n",
            "       Tiger       1.00      1.00      1.00       129\n",
            "       Zebra       1.00      1.00      1.00       137\n",
            "\n",
            "    accuracy                           0.99      1944\n",
            "   macro avg       0.99      0.99      0.99      1944\n",
            "weighted avg       0.99      0.99      0.99      1944\n",
            "\n"
          ]
        }
      ]
    },
    {
      "cell_type": "code",
      "source": [],
      "metadata": {
        "id": "Vutf27kJn9Xj"
      },
      "execution_count": null,
      "outputs": []
    },
    {
      "cell_type": "code",
      "source": [],
      "metadata": {
        "id": "UCpXK_8Ftp8E"
      },
      "execution_count": null,
      "outputs": []
    },
    {
      "cell_type": "code",
      "source": [],
      "metadata": {
        "id": "jt0dJuw1tqBK"
      },
      "execution_count": null,
      "outputs": []
    },
    {
      "cell_type": "code",
      "source": [
        "print(train_generator.class_indices)\n"
      ],
      "metadata": {
        "colab": {
          "base_uri": "https://localhost:8080/"
        },
        "id": "h2NiROj5tqEt",
        "outputId": "1aa4f32d-7923-49a3-bca5-4b76e2a4e566"
      },
      "execution_count": 43,
      "outputs": [
        {
          "output_type": "stream",
          "name": "stdout",
          "text": [
            "{'Bear': 0, 'Bird': 1, 'Cat': 2, 'Cow': 3, 'Deer': 4, 'Dog': 5, 'Dolphin': 6, 'Elephant': 7, 'Giraffe': 8, 'Horse': 9, 'Kangaroo': 10, 'Lion': 11, 'Panda': 12, 'Tiger': 13, 'Zebra': 14}\n"
          ]
        }
      ]
    },
    {
      "cell_type": "code",
      "source": [
        "train_generator = datagen.flow_from_directory(\n",
        "    \"animal_data_file/animal_data\",          # NOT the folder with all images directly inside\n",
        "    target_size=(224, 224),\n",
        "    batch_size=32,\n",
        "    class_mode='categorical',\n",
        "    subset='training',\n",
        "    shuffle=True\n",
        ")\n",
        "\n"
      ],
      "metadata": {
        "colab": {
          "base_uri": "https://localhost:8080/"
        },
        "id": "XwXoT0d9t3KW",
        "outputId": "94c79909-e892-48bc-eaf1-e8954e5dfaa3"
      },
      "execution_count": 44,
      "outputs": [
        {
          "output_type": "stream",
          "name": "stdout",
          "text": [
            "Found 1561 images belonging to 15 classes.\n"
          ]
        }
      ]
    },
    {
      "cell_type": "code",
      "source": [
        "val_prob = best_model.predict(val_generator)\n",
        "val_pred = np.argmax(val_prob, axis=1)\n",
        "val_true = val_generator.classes\n",
        "\n",
        "from sklearn.metrics import classification_report\n",
        "print(classification_report(val_true, val_pred, target_names=class_labels))\n"
      ],
      "metadata": {
        "colab": {
          "base_uri": "https://localhost:8080/"
        },
        "id": "jTW6o3ePzpGV",
        "outputId": "fa6cc5e9-1208-488e-8370-5a26842fcd69"
      },
      "execution_count": 46,
      "outputs": [
        {
          "output_type": "stream",
          "name": "stdout",
          "text": [
            "\u001b[1m12/12\u001b[0m \u001b[32m━━━━━━━━━━━━━━━━━━━━\u001b[0m\u001b[37m\u001b[0m \u001b[1m3s\u001b[0m 291ms/step\n",
            "              precision    recall  f1-score   support\n",
            "\n",
            "        Bear       0.93      1.00      0.96        25\n",
            "        Bird       1.00      1.00      1.00        27\n",
            "         Cat       1.00      0.96      0.98        24\n",
            "         Cow       0.93      1.00      0.96        26\n",
            "        Deer       0.86      1.00      0.93        25\n",
            "         Dog       0.82      0.96      0.88        24\n",
            "     Dolphin       0.96      1.00      0.98        25\n",
            "    Elephant       0.92      0.92      0.92        26\n",
            "     Giraffe       1.00      1.00      1.00        25\n",
            "       Horse       1.00      0.85      0.92        26\n",
            "    Kangaroo       1.00      0.84      0.91        25\n",
            "        Lion       1.00      0.88      0.94        26\n",
            "       Panda       1.00      0.96      0.98        27\n",
            "       Tiger       1.00      1.00      1.00        25\n",
            "       Zebra       1.00      1.00      1.00        27\n",
            "\n",
            "    accuracy                           0.96       383\n",
            "   macro avg       0.96      0.96      0.96       383\n",
            "weighted avg       0.96      0.96      0.96       383\n",
            "\n"
          ]
        }
      ]
    },
    {
      "cell_type": "markdown",
      "source": [
        "### Evaluate Accuracy on Validation/Test Data"
      ],
      "metadata": {
        "id": "WzD3oQph30jn"
      }
    },
    {
      "cell_type": "code",
      "source": [
        "val_loss, val_accuracy = best_model.evaluate(val_generator, verbose=1)\n",
        "\n",
        "print(f\"Validation Accuracy: {val_accuracy * 100:.2f}%\")\n",
        "print(f\"Validation Loss: {val_loss:.4f}\")\n"
      ],
      "metadata": {
        "colab": {
          "base_uri": "https://localhost:8080/"
        },
        "id": "RaqrK3_s40O9",
        "outputId": "de2ea82c-e1b4-4dcf-a675-9fb337d201a5"
      },
      "execution_count": 53,
      "outputs": [
        {
          "output_type": "stream",
          "name": "stdout",
          "text": [
            "\u001b[1m12/12\u001b[0m \u001b[32m━━━━━━━━━━━━━━━━━━━━\u001b[0m\u001b[37m\u001b[0m \u001b[1m5s\u001b[0m 146ms/step - accuracy: 0.9742 - loss: 0.1646\n",
            "Validation Accuracy: 95.82%\n",
            "Validation Loss: 0.2035\n"
          ]
        }
      ]
    }
  ],
  "metadata": {
    "accelerator": "GPU",
    "colab": {
      "gpuType": "T4",
      "provenance": []
    },
    "kernelspec": {
      "display_name": "Python 3",
      "name": "python3"
    },
    "language_info": {
      "name": "python"
    }
  },
  "nbformat": 4,
  "nbformat_minor": 0
}