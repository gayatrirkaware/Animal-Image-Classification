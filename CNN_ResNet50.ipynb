{
  "cells": [
    {
      "cell_type": "code",
      "execution_count": 26,
      "metadata": {
        "colab": {
          "base_uri": "https://localhost:8080/",
          "height": 90
        },
        "id": "G6uAq3YAi5kI",
        "outputId": "a86588c3-275f-467c-b411-4ce63928dcb8"
      },
      "outputs": [
        {
          "output_type": "display_data",
          "data": {
            "text/plain": [
              "<IPython.core.display.HTML object>"
            ],
            "text/html": [
              "\n",
              "     <input type=\"file\" id=\"files-59d51bc8-2df5-4c60-8962-c69ba75961bb\" name=\"files[]\" multiple disabled\n",
              "        style=\"border:none\" />\n",
              "     <output id=\"result-59d51bc8-2df5-4c60-8962-c69ba75961bb\">\n",
              "      Upload widget is only available when the cell has been executed in the\n",
              "      current browser session. Please rerun this cell to enable.\n",
              "      </output>\n",
              "      <script>// Copyright 2017 Google LLC\n",
              "//\n",
              "// Licensed under the Apache License, Version 2.0 (the \"License\");\n",
              "// you may not use this file except in compliance with the License.\n",
              "// You may obtain a copy of the License at\n",
              "//\n",
              "//      http://www.apache.org/licenses/LICENSE-2.0\n",
              "//\n",
              "// Unless required by applicable law or agreed to in writing, software\n",
              "// distributed under the License is distributed on an \"AS IS\" BASIS,\n",
              "// WITHOUT WARRANTIES OR CONDITIONS OF ANY KIND, either express or implied.\n",
              "// See the License for the specific language governing permissions and\n",
              "// limitations under the License.\n",
              "\n",
              "/**\n",
              " * @fileoverview Helpers for google.colab Python module.\n",
              " */\n",
              "(function(scope) {\n",
              "function span(text, styleAttributes = {}) {\n",
              "  const element = document.createElement('span');\n",
              "  element.textContent = text;\n",
              "  for (const key of Object.keys(styleAttributes)) {\n",
              "    element.style[key] = styleAttributes[key];\n",
              "  }\n",
              "  return element;\n",
              "}\n",
              "\n",
              "// Max number of bytes which will be uploaded at a time.\n",
              "const MAX_PAYLOAD_SIZE = 100 * 1024;\n",
              "\n",
              "function _uploadFiles(inputId, outputId) {\n",
              "  const steps = uploadFilesStep(inputId, outputId);\n",
              "  const outputElement = document.getElementById(outputId);\n",
              "  // Cache steps on the outputElement to make it available for the next call\n",
              "  // to uploadFilesContinue from Python.\n",
              "  outputElement.steps = steps;\n",
              "\n",
              "  return _uploadFilesContinue(outputId);\n",
              "}\n",
              "\n",
              "// This is roughly an async generator (not supported in the browser yet),\n",
              "// where there are multiple asynchronous steps and the Python side is going\n",
              "// to poll for completion of each step.\n",
              "// This uses a Promise to block the python side on completion of each step,\n",
              "// then passes the result of the previous step as the input to the next step.\n",
              "function _uploadFilesContinue(outputId) {\n",
              "  const outputElement = document.getElementById(outputId);\n",
              "  const steps = outputElement.steps;\n",
              "\n",
              "  const next = steps.next(outputElement.lastPromiseValue);\n",
              "  return Promise.resolve(next.value.promise).then((value) => {\n",
              "    // Cache the last promise value to make it available to the next\n",
              "    // step of the generator.\n",
              "    outputElement.lastPromiseValue = value;\n",
              "    return next.value.response;\n",
              "  });\n",
              "}\n",
              "\n",
              "/**\n",
              " * Generator function which is called between each async step of the upload\n",
              " * process.\n",
              " * @param {string} inputId Element ID of the input file picker element.\n",
              " * @param {string} outputId Element ID of the output display.\n",
              " * @return {!Iterable<!Object>} Iterable of next steps.\n",
              " */\n",
              "function* uploadFilesStep(inputId, outputId) {\n",
              "  const inputElement = document.getElementById(inputId);\n",
              "  inputElement.disabled = false;\n",
              "\n",
              "  const outputElement = document.getElementById(outputId);\n",
              "  outputElement.innerHTML = '';\n",
              "\n",
              "  const pickedPromise = new Promise((resolve) => {\n",
              "    inputElement.addEventListener('change', (e) => {\n",
              "      resolve(e.target.files);\n",
              "    });\n",
              "  });\n",
              "\n",
              "  const cancel = document.createElement('button');\n",
              "  inputElement.parentElement.appendChild(cancel);\n",
              "  cancel.textContent = 'Cancel upload';\n",
              "  const cancelPromise = new Promise((resolve) => {\n",
              "    cancel.onclick = () => {\n",
              "      resolve(null);\n",
              "    };\n",
              "  });\n",
              "\n",
              "  // Wait for the user to pick the files.\n",
              "  const files = yield {\n",
              "    promise: Promise.race([pickedPromise, cancelPromise]),\n",
              "    response: {\n",
              "      action: 'starting',\n",
              "    }\n",
              "  };\n",
              "\n",
              "  cancel.remove();\n",
              "\n",
              "  // Disable the input element since further picks are not allowed.\n",
              "  inputElement.disabled = true;\n",
              "\n",
              "  if (!files) {\n",
              "    return {\n",
              "      response: {\n",
              "        action: 'complete',\n",
              "      }\n",
              "    };\n",
              "  }\n",
              "\n",
              "  for (const file of files) {\n",
              "    const li = document.createElement('li');\n",
              "    li.append(span(file.name, {fontWeight: 'bold'}));\n",
              "    li.append(span(\n",
              "        `(${file.type || 'n/a'}) - ${file.size} bytes, ` +\n",
              "        `last modified: ${\n",
              "            file.lastModifiedDate ? file.lastModifiedDate.toLocaleDateString() :\n",
              "                                    'n/a'} - `));\n",
              "    const percent = span('0% done');\n",
              "    li.appendChild(percent);\n",
              "\n",
              "    outputElement.appendChild(li);\n",
              "\n",
              "    const fileDataPromise = new Promise((resolve) => {\n",
              "      const reader = new FileReader();\n",
              "      reader.onload = (e) => {\n",
              "        resolve(e.target.result);\n",
              "      };\n",
              "      reader.readAsArrayBuffer(file);\n",
              "    });\n",
              "    // Wait for the data to be ready.\n",
              "    let fileData = yield {\n",
              "      promise: fileDataPromise,\n",
              "      response: {\n",
              "        action: 'continue',\n",
              "      }\n",
              "    };\n",
              "\n",
              "    // Use a chunked sending to avoid message size limits. See b/62115660.\n",
              "    let position = 0;\n",
              "    do {\n",
              "      const length = Math.min(fileData.byteLength - position, MAX_PAYLOAD_SIZE);\n",
              "      const chunk = new Uint8Array(fileData, position, length);\n",
              "      position += length;\n",
              "\n",
              "      const base64 = btoa(String.fromCharCode.apply(null, chunk));\n",
              "      yield {\n",
              "        response: {\n",
              "          action: 'append',\n",
              "          file: file.name,\n",
              "          data: base64,\n",
              "        },\n",
              "      };\n",
              "\n",
              "      let percentDone = fileData.byteLength === 0 ?\n",
              "          100 :\n",
              "          Math.round((position / fileData.byteLength) * 100);\n",
              "      percent.textContent = `${percentDone}% done`;\n",
              "\n",
              "    } while (position < fileData.byteLength);\n",
              "  }\n",
              "\n",
              "  // All done.\n",
              "  yield {\n",
              "    response: {\n",
              "      action: 'complete',\n",
              "    }\n",
              "  };\n",
              "}\n",
              "\n",
              "scope.google = scope.google || {};\n",
              "scope.google.colab = scope.google.colab || {};\n",
              "scope.google.colab._files = {\n",
              "  _uploadFiles,\n",
              "  _uploadFilesContinue,\n",
              "};\n",
              "})(self);\n",
              "</script> "
            ]
          },
          "metadata": {}
        },
        {
          "output_type": "stream",
          "name": "stdout",
          "text": [
            "Saving animal_data.zip to animal_data (2).zip\n",
            "Extraction complete!\n"
          ]
        }
      ],
      "source": [
        "from google.colab import files\n",
        "import zipfile\n",
        "import os\n",
        "\n",
        "# Upload ZIP file\n",
        "uploaded = files.upload()  # Browse and select the ZIP file\n",
        "\n",
        "# Extract the uploaded zip file (assuming it's named 'animal_data.zip')\n",
        "with zipfile.ZipFile(\"animal_data.zip\", 'r') as zip_ref:\n",
        "    zip_ref.extractall(\"animal_data_file\")  # Extracts to a folder in current directory\n",
        "\n",
        "print(\"Extraction complete!\")\n"
      ]
    },
    {
      "cell_type": "markdown",
      "source": [],
      "metadata": {
        "id": "_dP3eWcKmYAl"
      }
    },
    {
      "cell_type": "code",
      "source": [
        "import tensorflow as tf\n",
        "from tensorflow.keras.applications import ResNet50\n",
        "from tensorflow.keras.models import Sequential\n",
        "from tensorflow.keras.layers import Dense, Dropout, GlobalAveragePooling2D\n",
        "from tensorflow.keras.preprocessing.image import ImageDataGenerator\n",
        "from tensorflow.keras import regularizers\n",
        "from tensorflow.keras.callbacks import EarlyStopping\n",
        "import keras_tuner as kt\n",
        "import os\n"
      ],
      "metadata": {
        "id": "0xOB9po7mRy8"
      },
      "execution_count": 67,
      "outputs": []
    },
    {
      "cell_type": "markdown",
      "source": [
        "**1. Problem Statement**"
      ],
      "metadata": {
        "id": "BvxwFPlHmjKa"
      }
    },
    {
      "cell_type": "code",
      "source": [
        "# To detect animal name via image"
      ],
      "metadata": {
        "id": "WrQSc25Jmpoa"
      },
      "execution_count": null,
      "outputs": []
    },
    {
      "cell_type": "markdown",
      "source": [
        "**2. Data preprocessing (No augmentation)**"
      ],
      "metadata": {
        "id": "twQ1Vn9um1Pp"
      }
    },
    {
      "cell_type": "code",
      "source": [
        "image_size = (224, 224)\n",
        "batch_size = 32\n",
        "\n",
        "datagen = ImageDataGenerator(\n",
        "    rescale=1./255,\n",
        "    validation_split=0.2\n",
        ")\n",
        "\n",
        "train_generator = datagen.flow_from_directory(\n",
        "    \"animal_data_file/animal_data\",\n",
        "    target_size=image_size,\n",
        "    batch_size=batch_size,\n",
        "    class_mode=\"categorical\",\n",
        "    subset=\"training\",\n",
        "    shuffle=True\n",
        ")\n",
        "\n",
        "val_generator = datagen.flow_from_directory(\n",
        "    \"animal_data_file/animal_data\",\n",
        "    target_size=image_size,\n",
        "    batch_size=batch_size,\n",
        "    class_mode=\"categorical\",\n",
        "    subset=\"validation\",\n",
        "    shuffle=False\n",
        ")\n",
        "\n",
        "num_classes = train_generator.num_classes"
      ],
      "metadata": {
        "colab": {
          "base_uri": "https://localhost:8080/"
        },
        "id": "QrGxDfIumyXA",
        "outputId": "4ac9d265-914b-4a74-9f44-d74031572567"
      },
      "execution_count": 68,
      "outputs": [
        {
          "output_type": "stream",
          "name": "stdout",
          "text": [
            "Found 1561 images belonging to 15 classes.\n",
            "Found 383 images belonging to 15 classes.\n"
          ]
        }
      ]
    },
    {
      "cell_type": "markdown",
      "source": [
        "**3. Hypermodel using MobileNet**"
      ],
      "metadata": {
        "id": "jZ67oqylnHXX"
      }
    },
    {
      "cell_type": "code",
      "source": [
        "def build_cnn_model(hp):\n",
        "    base_model = ResNet50(include_top=False, weights='imagenet', input_shape=image_size + (3,))\n",
        "    base_model.trainable = False  # Freeze base\n",
        "\n",
        "    model = Sequential()\n",
        "    model.add(base_model)\n",
        "    model.add(GlobalAveragePooling2D())\n",
        "\n",
        "    units = hp.Int(\"units\", min_value=64, max_value=256, step=32)\n",
        "    model.add(Dense(\n",
        "        units=units,\n",
        "        activation=hp.Choice(\"activation\", ['relu', 'tanh']),\n",
        "        kernel_initializer=hp.Choice(\"initializer\", ['glorot_uniform', 'he_normal']),\n",
        "        kernel_regularizer=regularizers.l2(\n",
        "            hp.Float(\"lambda\", 1e-4, 1e-2, sampling='log'))\n",
        "    ))\n",
        "\n",
        "    model.add(Dropout(hp.Float(\"dropout\", 0.2, 0.5, step=0.1)))\n",
        "    model.add(Dense(num_classes, activation='softmax'))\n",
        "\n",
        "    learning_rate = hp.Float(\"learning_rate\", 1e-4, 1e-2, sampling='log')\n",
        "    optimizer_choice = hp.Choice(\"optimizer\", ['adam', 'sgd', 'rmsprop'])\n",
        "\n",
        "    if optimizer_choice == 'adam':\n",
        "        optimizer = tf.keras.optimizers.Adam(learning_rate)\n",
        "    elif optimizer_choice == 'sgd':\n",
        "        optimizer = tf.keras.optimizers.SGD(learning_rate)\n",
        "    else:\n",
        "        optimizer = tf.keras.optimizers.RMSprop(learning_rate)\n",
        "\n",
        "    model.compile(\n",
        "        optimizer=optimizer,\n",
        "        loss='categorical_crossentropy',\n",
        "        metrics=['accuracy']\n",
        "    )\n",
        "    return model\n"
      ],
      "metadata": {
        "id": "ULMaPfkfmyzY"
      },
      "execution_count": 69,
      "outputs": []
    },
    {
      "cell_type": "markdown",
      "source": [
        "**4. Keras Tuner Setup**"
      ],
      "metadata": {
        "id": "GhdKNqaKnXIG"
      }
    },
    {
      "cell_type": "code",
      "source": [
        "tuner = kt.RandomSearch(\n",
        "    build_cnn_model,\n",
        "    objective='val_loss',\n",
        "    max_trials=10,\n",
        "    executions_per_trial=1,\n",
        "    directory='cnn_tuning',\n",
        "    project_name='ResNet50_model'\n",
        ")\n",
        "\n",
        "early_stop = EarlyStopping(monitor='val_loss', patience=5)"
      ],
      "metadata": {
        "colab": {
          "base_uri": "https://localhost:8080/"
        },
        "id": "jdYPGKCunaFN",
        "outputId": "9ea1f97a-cb80-4cf3-a343-3b214192a087"
      },
      "execution_count": 70,
      "outputs": [
        {
          "output_type": "stream",
          "name": "stdout",
          "text": [
            "Downloading data from https://storage.googleapis.com/tensorflow/keras-applications/resnet/resnet50_weights_tf_dim_ordering_tf_kernels_notop.h5\n",
            "\u001b[1m94765736/94765736\u001b[0m \u001b[32m━━━━━━━━━━━━━━━━━━━━\u001b[0m\u001b[37m\u001b[0m \u001b[1m5s\u001b[0m 0us/step\n"
          ]
        }
      ]
    },
    {
      "cell_type": "markdown",
      "source": [
        "**5. Start tuning**"
      ],
      "metadata": {
        "id": "_BE-oxlAne1G"
      }
    },
    {
      "cell_type": "code",
      "source": [
        "tuner.search(\n",
        "    train_generator,\n",
        "    validation_data=val_generator,\n",
        "    epochs=10,\n",
        "    callbacks=[early_stop],\n",
        "    verbose=2\n",
        ")"
      ],
      "metadata": {
        "colab": {
          "base_uri": "https://localhost:8080/"
        },
        "id": "U2MF6-6ankQF",
        "outputId": "8a8d8998-3a5f-4cb3-e306-b0715077fa7a"
      },
      "execution_count": 71,
      "outputs": [
        {
          "output_type": "stream",
          "name": "stdout",
          "text": [
            "Trial 10 Complete [00h 01m 30s]\n",
            "val_loss: 2.5464134216308594\n",
            "\n",
            "Best val_loss So Far: 2.5464134216308594\n",
            "Total elapsed time: 00h 15m 48s\n"
          ]
        }
      ]
    },
    {
      "cell_type": "markdown",
      "source": [
        "**6. Save best model**"
      ],
      "metadata": {
        "id": "2uQlBaEHnu3s"
      }
    },
    {
      "cell_type": "code",
      "source": [
        "best_model = tuner.get_best_models(1)[0]\n",
        "best_hyperparams = tuner.get_best_hyperparameters(1)[0]\n",
        "\n",
        "print(\"\\nBest Hyperparameters:\")\n",
        "print(best_hyperparams.values)\n",
        "\n",
        "if not os.path.exists(\"model\"):\n",
        "    os.mkdir(\"model\")\n",
        "\n",
        "best_model.save(\"model/ResNet50_best_tuned_model.h5\")"
      ],
      "metadata": {
        "colab": {
          "base_uri": "https://localhost:8080/"
        },
        "id": "atFrJIr_ny5r",
        "outputId": "7239e621-c3a3-4baf-bdfe-77b0d797e502"
      },
      "execution_count": 72,
      "outputs": [
        {
          "output_type": "stream",
          "name": "stderr",
          "text": [
            "/usr/local/lib/python3.11/dist-packages/keras/src/saving/saving_lib.py:757: UserWarning: Skipping variable loading for optimizer 'adam', because it has 2 variables whereas the saved optimizer has 10 variables. \n",
            "  saveable.load_own_variables(weights_store.get(inner_path))\n",
            "WARNING:absl:You are saving your model as an HDF5 file via `model.save()` or `keras.saving.save_model(model)`. This file format is considered legacy. We recommend using instead the native Keras format, e.g. `model.save('my_model.keras')` or `keras.saving.save_model(model, 'my_model.keras')`. \n"
          ]
        },
        {
          "output_type": "stream",
          "name": "stdout",
          "text": [
            "\n",
            "Best Hyperparameters:\n",
            "{'units': 128, 'activation': 'tanh', 'initializer': 'glorot_uniform', 'lambda': 0.00011353194581530606, 'dropout': 0.4, 'learning_rate': 0.0003356286726472511, 'optimizer': 'adam'}\n"
          ]
        }
      ]
    },
    {
      "cell_type": "markdown",
      "source": [
        "**Evaluation**"
      ],
      "metadata": {
        "id": "GiHYRth2opqn"
      }
    },
    {
      "cell_type": "code",
      "source": [
        "from sklearn.metrics import confusion_matrix, classification_report, accuracy_score\n",
        "import numpy as np\n",
        "\n",
        "# Predict the class probabilities\n",
        "y_pred_train_prob = best_model.predict(train_generator)\n",
        "\n",
        "# Get the predicted class index (highest probability)\n",
        "y_pred_train = np.argmax(y_pred_train_prob, axis=1)\n",
        "\n",
        "# Get the true class labels\n",
        "y_train = train_generator.classes\n",
        "\n",
        "# Print evaluation metrics\n",
        "print(\"Confusion Matrix:\")\n",
        "print(confusion_matrix(y_train, y_pred_train))\n",
        "\n",
        "print(\"\\nClassification Report:\")\n",
        "class_labels = list(train_generator.class_indices.keys())  # Get class names\n",
        "print(classification_report(y_train, y_pred_train, target_names=class_labels))\n"
      ],
      "metadata": {
        "colab": {
          "base_uri": "https://localhost:8080/"
        },
        "id": "6dPYe7din82K",
        "outputId": "8f975242-b459-4e98-a715-5fa1950e8460"
      },
      "execution_count": 73,
      "outputs": [
        {
          "output_type": "stream",
          "name": "stdout",
          "text": [
            "\u001b[1m49/49\u001b[0m \u001b[32m━━━━━━━━━━━━━━━━━━━━\u001b[0m\u001b[37m\u001b[0m \u001b[1m20s\u001b[0m 317ms/step\n",
            "Confusion Matrix:\n",
            "[[ 9  0  4 12  0  0 38  0  0  0  0  0  5 31  1]\n",
            " [11  0  5  9  0  0 44  0  0  0  0  0  7 30  4]\n",
            " [ 9  0  1 14  0  0 34  0  0  0  0  0  3 38  0]\n",
            " [ 7  0  1 19  0  0 38  0  0  0  0  0  8 32  0]\n",
            " [ 7  1  1 18  0  0 37  0  0  0  0  0  9 28  1]\n",
            " [12  0  0 10  0  0 40  0  0  0  0  0  7 28  1]\n",
            " [15  1  2 13  0  0 36  0  0  0  0  0  8 28  1]\n",
            " [ 9  0  4 15  0  0 44  0  0  0  0  0  4 30  1]\n",
            " [ 7  0  2 18  0  0 39  0  0  0  0  0  5 31  2]\n",
            " [ 9  0  3 16  0  0 36  0  0  0  0  0 10 30  0]\n",
            " [10  0  2 12  0  0 34  0  0  0  0  0  3 38  2]\n",
            " [ 6  1  2 18  0  0 47  0  0  0  0  0  6 25  0]\n",
            " [16  0  3 11  0  0 34  0  0  0  0  0  5 36  3]\n",
            " [ 5  0  0 17  0  0 43  0  0  0  0  0  5 34  0]\n",
            " [13  0  2 13  0  0 34  0  0  0  0  0  6 42  0]]\n",
            "\n",
            "Classification Report:\n",
            "              precision    recall  f1-score   support\n",
            "\n",
            "        Bear       0.06      0.09      0.07       100\n",
            "        Bird       0.00      0.00      0.00       110\n",
            "         Cat       0.03      0.01      0.02        99\n",
            "         Cow       0.09      0.18      0.12       105\n",
            "        Deer       0.00      0.00      0.00       102\n",
            "         Dog       0.00      0.00      0.00        98\n",
            "     Dolphin       0.06      0.35      0.11       104\n",
            "    Elephant       0.00      0.00      0.00       107\n",
            "     Giraffe       0.00      0.00      0.00       104\n",
            "       Horse       0.00      0.00      0.00       104\n",
            "    Kangaroo       0.00      0.00      0.00       101\n",
            "        Lion       0.00      0.00      0.00       105\n",
            "       Panda       0.05      0.05      0.05       108\n",
            "       Tiger       0.07      0.33      0.12       104\n",
            "       Zebra       0.00      0.00      0.00       110\n",
            "\n",
            "    accuracy                           0.07      1561\n",
            "   macro avg       0.02      0.07      0.03      1561\n",
            "weighted avg       0.02      0.07      0.03      1561\n",
            "\n"
          ]
        },
        {
          "output_type": "stream",
          "name": "stderr",
          "text": [
            "/usr/local/lib/python3.11/dist-packages/sklearn/metrics/_classification.py:1565: UndefinedMetricWarning: Precision is ill-defined and being set to 0.0 in labels with no predicted samples. Use `zero_division` parameter to control this behavior.\n",
            "  _warn_prf(average, modifier, f\"{metric.capitalize()} is\", len(result))\n",
            "/usr/local/lib/python3.11/dist-packages/sklearn/metrics/_classification.py:1565: UndefinedMetricWarning: Precision is ill-defined and being set to 0.0 in labels with no predicted samples. Use `zero_division` parameter to control this behavior.\n",
            "  _warn_prf(average, modifier, f\"{metric.capitalize()} is\", len(result))\n",
            "/usr/local/lib/python3.11/dist-packages/sklearn/metrics/_classification.py:1565: UndefinedMetricWarning: Precision is ill-defined and being set to 0.0 in labels with no predicted samples. Use `zero_division` parameter to control this behavior.\n",
            "  _warn_prf(average, modifier, f\"{metric.capitalize()} is\", len(result))\n"
          ]
        }
      ]
    },
    {
      "cell_type": "code",
      "source": [
        "from tensorflow.keras.preprocessing.image import ImageDataGenerator\n",
        "\n",
        "\n",
        "test_datagen = ImageDataGenerator(rescale=1./255)\n",
        "\n",
        "test_generator = test_datagen.flow_from_directory(\n",
        "    'animal_data_file/animal_data',\n",
        "    target_size=(224, 224),\n",
        "    batch_size=32,\n",
        "    class_mode='categorical',\n",
        "    shuffle=False\n",
        ")\n"
      ],
      "metadata": {
        "colab": {
          "base_uri": "https://localhost:8080/"
        },
        "id": "E_XgIraQpv4Q",
        "outputId": "6c7a5d37-6417-4689-f83d-9bedaffd9dd0"
      },
      "execution_count": 74,
      "outputs": [
        {
          "output_type": "stream",
          "name": "stdout",
          "text": [
            "Found 1944 images belonging to 15 classes.\n"
          ]
        }
      ]
    },
    {
      "cell_type": "code",
      "source": [
        "from sklearn.metrics import confusion_matrix, classification_report, accuracy_score\n",
        "import numpy as np\n",
        "\n",
        "# Step 1: Predict on test data\n",
        "y_pred_test_prob = best_model.predict(test_generator)\n",
        "\n",
        "# Step 2: Get the predicted class index (highest probability)\n",
        "y_pred_test = np.argmax(y_pred_test_prob, axis=1)\n",
        "\n",
        "# Step 3: Get the true class labels from the test generator\n",
        "y_test = test_generator.classes\n",
        "\n",
        "# Step 4: Class labels (same as training)\n",
        "class_labels = list(test_generator.class_indices.keys())\n",
        "\n",
        "# Step 5: Print metrics\n",
        "print(\"Confusion Matrix:\")\n",
        "print(confusion_matrix(y_test, y_pred_test))\n",
        "\n",
        "print(\"\\nClassification Report:\")\n",
        "print(classification_report(y_test, y_pred_test, target_names=class_labels))\n"
      ],
      "metadata": {
        "colab": {
          "base_uri": "https://localhost:8080/"
        },
        "id": "zHVVt2-Sn9J6",
        "outputId": "2069b49a-e091-4dfe-e4e1-ba11ca945497"
      },
      "execution_count": 75,
      "outputs": [
        {
          "output_type": "stream",
          "name": "stderr",
          "text": [
            "/usr/local/lib/python3.11/dist-packages/keras/src/trainers/data_adapters/py_dataset_adapter.py:121: UserWarning: Your `PyDataset` class should call `super().__init__(**kwargs)` in its constructor. `**kwargs` can include `workers`, `use_multiprocessing`, `max_queue_size`. Do not pass these arguments to `fit()`, as they will be ignored.\n",
            "  self._warn_if_super_not_called()\n"
          ]
        },
        {
          "output_type": "stream",
          "name": "stdout",
          "text": [
            "\u001b[1m61/61\u001b[0m \u001b[32m━━━━━━━━━━━━━━━━━━━━\u001b[0m\u001b[37m\u001b[0m \u001b[1m9s\u001b[0m 155ms/step\n",
            "Confusion Matrix:\n",
            "[[25  0  2 26  0  0 51  0  0  0  0  0  4 17  0]\n",
            " [10  2  2 14  0  0 74  0  0  0  0  0  0 34  1]\n",
            " [15  0  4 10  0  0 46  0  0  0  0  0  8 40  0]\n",
            " [ 6  0  0 56  0  0 48  0  0  0  0  0  5 16  0]\n",
            " [14  0  4  8  0  0 49  0  0  0  0  0  0 52  0]\n",
            " [18  0  7 28  0  0 43  0  0  0  0  0 16 10  0]\n",
            " [ 6  0  4  5  0  0 90  0  0  0  0  0  1 21  2]\n",
            " [28  0  1 19  0  0 48  0  0  0  0  0  5 32  0]\n",
            " [ 7  0  2  4  0  0 50  0  0  0  0  0  0 66  0]\n",
            " [19  0  1 26  0  0 45  0  0  0  0  0  0 37  2]\n",
            " [21  1  4 26  0  0 43  0  0  0  0  0  3 27  1]\n",
            " [17  0  3 11  0  0 49  0  0  0  0  0 11 40  0]\n",
            " [ 0  0  3 12  0  0 31  0  0  0  0  0 74 15  0]\n",
            " [ 0  0  0  3  0  0 30  0  0  0  0  0  0 96  0]\n",
            " [ 2  0  0 11  0  0 31  0  0  0  0  0  0 76 17]]\n",
            "\n",
            "Classification Report:\n",
            "              precision    recall  f1-score   support\n",
            "\n",
            "        Bear       0.13      0.20      0.16       125\n",
            "        Bird       0.67      0.01      0.03       137\n",
            "         Cat       0.11      0.03      0.05       123\n",
            "         Cow       0.22      0.43      0.29       131\n",
            "        Deer       0.00      0.00      0.00       127\n",
            "         Dog       0.00      0.00      0.00       122\n",
            "     Dolphin       0.12      0.70      0.21       129\n",
            "    Elephant       0.00      0.00      0.00       133\n",
            "     Giraffe       0.00      0.00      0.00       129\n",
            "       Horse       0.00      0.00      0.00       130\n",
            "    Kangaroo       0.00      0.00      0.00       126\n",
            "        Lion       0.00      0.00      0.00       131\n",
            "       Panda       0.58      0.55      0.56       135\n",
            "       Tiger       0.17      0.74      0.27       129\n",
            "       Zebra       0.74      0.12      0.21       137\n",
            "\n",
            "    accuracy                           0.19      1944\n",
            "   macro avg       0.18      0.19      0.12      1944\n",
            "weighted avg       0.19      0.19      0.12      1944\n",
            "\n"
          ]
        },
        {
          "output_type": "stream",
          "name": "stderr",
          "text": [
            "/usr/local/lib/python3.11/dist-packages/sklearn/metrics/_classification.py:1565: UndefinedMetricWarning: Precision is ill-defined and being set to 0.0 in labels with no predicted samples. Use `zero_division` parameter to control this behavior.\n",
            "  _warn_prf(average, modifier, f\"{metric.capitalize()} is\", len(result))\n",
            "/usr/local/lib/python3.11/dist-packages/sklearn/metrics/_classification.py:1565: UndefinedMetricWarning: Precision is ill-defined and being set to 0.0 in labels with no predicted samples. Use `zero_division` parameter to control this behavior.\n",
            "  _warn_prf(average, modifier, f\"{metric.capitalize()} is\", len(result))\n",
            "/usr/local/lib/python3.11/dist-packages/sklearn/metrics/_classification.py:1565: UndefinedMetricWarning: Precision is ill-defined and being set to 0.0 in labels with no predicted samples. Use `zero_division` parameter to control this behavior.\n",
            "  _warn_prf(average, modifier, f\"{metric.capitalize()} is\", len(result))\n"
          ]
        }
      ]
    },
    {
      "cell_type": "code",
      "source": [],
      "metadata": {
        "id": "Vutf27kJn9Xj"
      },
      "execution_count": null,
      "outputs": []
    },
    {
      "cell_type": "code",
      "source": [],
      "metadata": {
        "id": "UCpXK_8Ftp8E"
      },
      "execution_count": null,
      "outputs": []
    },
    {
      "cell_type": "code",
      "source": [],
      "metadata": {
        "id": "jt0dJuw1tqBK"
      },
      "execution_count": null,
      "outputs": []
    },
    {
      "cell_type": "code",
      "source": [
        "print(train_generator.class_indices)\n"
      ],
      "metadata": {
        "colab": {
          "base_uri": "https://localhost:8080/"
        },
        "id": "h2NiROj5tqEt",
        "outputId": "0e0bbacf-6c94-4b07-f447-09765f50c911"
      },
      "execution_count": 76,
      "outputs": [
        {
          "output_type": "stream",
          "name": "stdout",
          "text": [
            "{'Bear': 0, 'Bird': 1, 'Cat': 2, 'Cow': 3, 'Deer': 4, 'Dog': 5, 'Dolphin': 6, 'Elephant': 7, 'Giraffe': 8, 'Horse': 9, 'Kangaroo': 10, 'Lion': 11, 'Panda': 12, 'Tiger': 13, 'Zebra': 14}\n"
          ]
        }
      ]
    },
    {
      "cell_type": "code",
      "source": [
        "train_generator = datagen.flow_from_directory(\n",
        "    \"animal_data_file/animal_data\",          # NOT the folder with all images directly inside\n",
        "    target_size=(224, 224),\n",
        "    batch_size=32,\n",
        "    class_mode='categorical',\n",
        "    subset='training',\n",
        "    shuffle=True\n",
        ")\n",
        "\n"
      ],
      "metadata": {
        "colab": {
          "base_uri": "https://localhost:8080/"
        },
        "id": "XwXoT0d9t3KW",
        "outputId": "2c3781b3-b39a-46b0-a77b-6a39d38a9515"
      },
      "execution_count": 77,
      "outputs": [
        {
          "output_type": "stream",
          "name": "stdout",
          "text": [
            "Found 1561 images belonging to 15 classes.\n"
          ]
        }
      ]
    },
    {
      "cell_type": "code",
      "source": [
        "val_prob = best_model.predict(val_generator)\n",
        "val_pred = np.argmax(val_prob, axis=1)\n",
        "val_true = val_generator.classes\n",
        "\n",
        "from sklearn.metrics import classification_report\n",
        "print(classification_report(val_true, val_pred, target_names=class_labels))\n"
      ],
      "metadata": {
        "colab": {
          "base_uri": "https://localhost:8080/"
        },
        "id": "jTW6o3ePzpGV",
        "outputId": "eeb89526-a4ac-422a-f9de-631558332c0f"
      },
      "execution_count": 78,
      "outputs": [
        {
          "output_type": "stream",
          "name": "stdout",
          "text": [
            "\u001b[1m12/12\u001b[0m \u001b[32m━━━━━━━━━━━━━━━━━━━━\u001b[0m\u001b[37m\u001b[0m \u001b[1m5s\u001b[0m 438ms/step\n",
            "              precision    recall  f1-score   support\n",
            "\n",
            "        Bear       0.19      0.32      0.24        25\n",
            "        Bird       0.00      0.00      0.00        27\n",
            "         Cat       0.20      0.04      0.07        24\n",
            "         Cow       0.16      0.27      0.20        26\n",
            "        Deer       0.00      0.00      0.00        25\n",
            "         Dog       0.00      0.00      0.00        24\n",
            "     Dolphin       0.13      0.80      0.23        25\n",
            "    Elephant       0.00      0.00      0.00        26\n",
            "     Giraffe       0.00      0.00      0.00        25\n",
            "       Horse       0.00      0.00      0.00        26\n",
            "    Kangaroo       0.00      0.00      0.00        25\n",
            "        Lion       0.00      0.00      0.00        26\n",
            "       Panda       0.50      0.67      0.57        27\n",
            "       Tiger       0.18      0.72      0.29        25\n",
            "       Zebra       0.86      0.22      0.35        27\n",
            "\n",
            "    accuracy                           0.20       383\n",
            "   macro avg       0.15      0.20      0.13       383\n",
            "weighted avg       0.15      0.20      0.13       383\n",
            "\n"
          ]
        },
        {
          "output_type": "stream",
          "name": "stderr",
          "text": [
            "/usr/local/lib/python3.11/dist-packages/sklearn/metrics/_classification.py:1565: UndefinedMetricWarning: Precision is ill-defined and being set to 0.0 in labels with no predicted samples. Use `zero_division` parameter to control this behavior.\n",
            "  _warn_prf(average, modifier, f\"{metric.capitalize()} is\", len(result))\n",
            "/usr/local/lib/python3.11/dist-packages/sklearn/metrics/_classification.py:1565: UndefinedMetricWarning: Precision is ill-defined and being set to 0.0 in labels with no predicted samples. Use `zero_division` parameter to control this behavior.\n",
            "  _warn_prf(average, modifier, f\"{metric.capitalize()} is\", len(result))\n",
            "/usr/local/lib/python3.11/dist-packages/sklearn/metrics/_classification.py:1565: UndefinedMetricWarning: Precision is ill-defined and being set to 0.0 in labels with no predicted samples. Use `zero_division` parameter to control this behavior.\n",
            "  _warn_prf(average, modifier, f\"{metric.capitalize()} is\", len(result))\n"
          ]
        }
      ]
    },
    {
      "cell_type": "markdown",
      "source": [
        "### Evaluate Accuracy on Validation/Test Data"
      ],
      "metadata": {
        "id": "WzD3oQph30jn"
      }
    },
    {
      "cell_type": "code",
      "source": [
        "val_loss, val_accuracy = best_model.evaluate(val_generator, verbose=1)\n",
        "\n",
        "print(f\"Validation Accuracy: {val_accuracy * 100:.2f}%\")\n",
        "print(f\"Validation Loss: {val_loss:.4f}\")\n"
      ],
      "metadata": {
        "colab": {
          "base_uri": "https://localhost:8080/"
        },
        "id": "RaqrK3_s40O9",
        "outputId": "27724a82-556b-4b91-9826-062e9dfd5f7f"
      },
      "execution_count": 79,
      "outputs": [
        {
          "output_type": "stream",
          "name": "stdout",
          "text": [
            "\u001b[1m12/12\u001b[0m \u001b[32m━━━━━━━━━━━━━━━━━━━━\u001b[0m\u001b[37m\u001b[0m \u001b[1m10s\u001b[0m 322ms/step - accuracy: 0.1649 - loss: 2.5505\n",
            "Validation Accuracy: 20.37%\n",
            "Validation Loss: 2.5464\n"
          ]
        }
      ]
    }
  ],
  "metadata": {
    "accelerator": "GPU",
    "colab": {
      "gpuType": "T4",
      "provenance": []
    },
    "kernelspec": {
      "display_name": "Python 3",
      "name": "python3"
    },
    "language_info": {
      "name": "python"
    }
  },
  "nbformat": 4,
  "nbformat_minor": 0
}