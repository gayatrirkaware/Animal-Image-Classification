{
  "cells": [
    {
      "cell_type": "code",
      "execution_count": 26,
      "metadata": {
        "colab": {
          "base_uri": "https://localhost:8080/",
          "height": 90
        },
        "id": "G6uAq3YAi5kI",
        "outputId": "a86588c3-275f-467c-b411-4ce63928dcb8"
      },
      "outputs": [
        {
          "output_type": "display_data",
          "data": {
            "text/plain": [
              "<IPython.core.display.HTML object>"
            ],
            "text/html": [
              "\n",
              "     <input type=\"file\" id=\"files-59d51bc8-2df5-4c60-8962-c69ba75961bb\" name=\"files[]\" multiple disabled\n",
              "        style=\"border:none\" />\n",
              "     <output id=\"result-59d51bc8-2df5-4c60-8962-c69ba75961bb\">\n",
              "      Upload widget is only available when the cell has been executed in the\n",
              "      current browser session. Please rerun this cell to enable.\n",
              "      </output>\n",
              "      <script>// Copyright 2017 Google LLC\n",
              "//\n",
              "// Licensed under the Apache License, Version 2.0 (the \"License\");\n",
              "// you may not use this file except in compliance with the License.\n",
              "// You may obtain a copy of the License at\n",
              "//\n",
              "//      http://www.apache.org/licenses/LICENSE-2.0\n",
              "//\n",
              "// Unless required by applicable law or agreed to in writing, software\n",
              "// distributed under the License is distributed on an \"AS IS\" BASIS,\n",
              "// WITHOUT WARRANTIES OR CONDITIONS OF ANY KIND, either express or implied.\n",
              "// See the License for the specific language governing permissions and\n",
              "// limitations under the License.\n",
              "\n",
              "/**\n",
              " * @fileoverview Helpers for google.colab Python module.\n",
              " */\n",
              "(function(scope) {\n",
              "function span(text, styleAttributes = {}) {\n",
              "  const element = document.createElement('span');\n",
              "  element.textContent = text;\n",
              "  for (const key of Object.keys(styleAttributes)) {\n",
              "    element.style[key] = styleAttributes[key];\n",
              "  }\n",
              "  return element;\n",
              "}\n",
              "\n",
              "// Max number of bytes which will be uploaded at a time.\n",
              "const MAX_PAYLOAD_SIZE = 100 * 1024;\n",
              "\n",
              "function _uploadFiles(inputId, outputId) {\n",
              "  const steps = uploadFilesStep(inputId, outputId);\n",
              "  const outputElement = document.getElementById(outputId);\n",
              "  // Cache steps on the outputElement to make it available for the next call\n",
              "  // to uploadFilesContinue from Python.\n",
              "  outputElement.steps = steps;\n",
              "\n",
              "  return _uploadFilesContinue(outputId);\n",
              "}\n",
              "\n",
              "// This is roughly an async generator (not supported in the browser yet),\n",
              "// where there are multiple asynchronous steps and the Python side is going\n",
              "// to poll for completion of each step.\n",
              "// This uses a Promise to block the python side on completion of each step,\n",
              "// then passes the result of the previous step as the input to the next step.\n",
              "function _uploadFilesContinue(outputId) {\n",
              "  const outputElement = document.getElementById(outputId);\n",
              "  const steps = outputElement.steps;\n",
              "\n",
              "  const next = steps.next(outputElement.lastPromiseValue);\n",
              "  return Promise.resolve(next.value.promise).then((value) => {\n",
              "    // Cache the last promise value to make it available to the next\n",
              "    // step of the generator.\n",
              "    outputElement.lastPromiseValue = value;\n",
              "    return next.value.response;\n",
              "  });\n",
              "}\n",
              "\n",
              "/**\n",
              " * Generator function which is called between each async step of the upload\n",
              " * process.\n",
              " * @param {string} inputId Element ID of the input file picker element.\n",
              " * @param {string} outputId Element ID of the output display.\n",
              " * @return {!Iterable<!Object>} Iterable of next steps.\n",
              " */\n",
              "function* uploadFilesStep(inputId, outputId) {\n",
              "  const inputElement = document.getElementById(inputId);\n",
              "  inputElement.disabled = false;\n",
              "\n",
              "  const outputElement = document.getElementById(outputId);\n",
              "  outputElement.innerHTML = '';\n",
              "\n",
              "  const pickedPromise = new Promise((resolve) => {\n",
              "    inputElement.addEventListener('change', (e) => {\n",
              "      resolve(e.target.files);\n",
              "    });\n",
              "  });\n",
              "\n",
              "  const cancel = document.createElement('button');\n",
              "  inputElement.parentElement.appendChild(cancel);\n",
              "  cancel.textContent = 'Cancel upload';\n",
              "  const cancelPromise = new Promise((resolve) => {\n",
              "    cancel.onclick = () => {\n",
              "      resolve(null);\n",
              "    };\n",
              "  });\n",
              "\n",
              "  // Wait for the user to pick the files.\n",
              "  const files = yield {\n",
              "    promise: Promise.race([pickedPromise, cancelPromise]),\n",
              "    response: {\n",
              "      action: 'starting',\n",
              "    }\n",
              "  };\n",
              "\n",
              "  cancel.remove();\n",
              "\n",
              "  // Disable the input element since further picks are not allowed.\n",
              "  inputElement.disabled = true;\n",
              "\n",
              "  if (!files) {\n",
              "    return {\n",
              "      response: {\n",
              "        action: 'complete',\n",
              "      }\n",
              "    };\n",
              "  }\n",
              "\n",
              "  for (const file of files) {\n",
              "    const li = document.createElement('li');\n",
              "    li.append(span(file.name, {fontWeight: 'bold'}));\n",
              "    li.append(span(\n",
              "        `(${file.type || 'n/a'}) - ${file.size} bytes, ` +\n",
              "        `last modified: ${\n",
              "            file.lastModifiedDate ? file.lastModifiedDate.toLocaleDateString() :\n",
              "                                    'n/a'} - `));\n",
              "    const percent = span('0% done');\n",
              "    li.appendChild(percent);\n",
              "\n",
              "    outputElement.appendChild(li);\n",
              "\n",
              "    const fileDataPromise = new Promise((resolve) => {\n",
              "      const reader = new FileReader();\n",
              "      reader.onload = (e) => {\n",
              "        resolve(e.target.result);\n",
              "      };\n",
              "      reader.readAsArrayBuffer(file);\n",
              "    });\n",
              "    // Wait for the data to be ready.\n",
              "    let fileData = yield {\n",
              "      promise: fileDataPromise,\n",
              "      response: {\n",
              "        action: 'continue',\n",
              "      }\n",
              "    };\n",
              "\n",
              "    // Use a chunked sending to avoid message size limits. See b/62115660.\n",
              "    let position = 0;\n",
              "    do {\n",
              "      const length = Math.min(fileData.byteLength - position, MAX_PAYLOAD_SIZE);\n",
              "      const chunk = new Uint8Array(fileData, position, length);\n",
              "      position += length;\n",
              "\n",
              "      const base64 = btoa(String.fromCharCode.apply(null, chunk));\n",
              "      yield {\n",
              "        response: {\n",
              "          action: 'append',\n",
              "          file: file.name,\n",
              "          data: base64,\n",
              "        },\n",
              "      };\n",
              "\n",
              "      let percentDone = fileData.byteLength === 0 ?\n",
              "          100 :\n",
              "          Math.round((position / fileData.byteLength) * 100);\n",
              "      percent.textContent = `${percentDone}% done`;\n",
              "\n",
              "    } while (position < fileData.byteLength);\n",
              "  }\n",
              "\n",
              "  // All done.\n",
              "  yield {\n",
              "    response: {\n",
              "      action: 'complete',\n",
              "    }\n",
              "  };\n",
              "}\n",
              "\n",
              "scope.google = scope.google || {};\n",
              "scope.google.colab = scope.google.colab || {};\n",
              "scope.google.colab._files = {\n",
              "  _uploadFiles,\n",
              "  _uploadFilesContinue,\n",
              "};\n",
              "})(self);\n",
              "</script> "
            ]
          },
          "metadata": {}
        },
        {
          "output_type": "stream",
          "name": "stdout",
          "text": [
            "Saving animal_data.zip to animal_data (2).zip\n",
            "Extraction complete!\n"
          ]
        }
      ],
      "source": [
        "from google.colab import files\n",
        "import zipfile\n",
        "import os\n",
        "\n",
        "# Upload ZIP file\n",
        "uploaded = files.upload()  # Browse and select the ZIP file\n",
        "\n",
        "# Extract the uploaded zip file (assuming it's named 'animal_data.zip')\n",
        "with zipfile.ZipFile(\"animal_data.zip\", 'r') as zip_ref:\n",
        "    zip_ref.extractall(\"animal_data_file\")  # Extracts to a folder in current directory\n",
        "\n",
        "print(\"Extraction complete!\")\n"
      ]
    },
    {
      "cell_type": "markdown",
      "source": [],
      "metadata": {
        "id": "_dP3eWcKmYAl"
      }
    },
    {
      "cell_type": "code",
      "source": [
        "import tensorflow as tf\n",
        "from tensorflow.keras.applications import VGG16\n",
        "from tensorflow.keras.models import Sequential\n",
        "from tensorflow.keras.layers import Dense, Dropout, GlobalAveragePooling2D\n",
        "from tensorflow.keras.preprocessing.image import ImageDataGenerator\n",
        "from tensorflow.keras import regularizers\n",
        "from tensorflow.keras.callbacks import EarlyStopping\n",
        "import keras_tuner as kt\n",
        "import os\n"
      ],
      "metadata": {
        "id": "0xOB9po7mRy8"
      },
      "execution_count": 54,
      "outputs": []
    },
    {
      "cell_type": "markdown",
      "source": [
        "**1. Problem Statement**"
      ],
      "metadata": {
        "id": "BvxwFPlHmjKa"
      }
    },
    {
      "cell_type": "code",
      "source": [
        "# To detect animal name via image"
      ],
      "metadata": {
        "id": "WrQSc25Jmpoa"
      },
      "execution_count": null,
      "outputs": []
    },
    {
      "cell_type": "markdown",
      "source": [
        "**2. Data preprocessing (No augmentation)**"
      ],
      "metadata": {
        "id": "twQ1Vn9um1Pp"
      }
    },
    {
      "cell_type": "code",
      "source": [
        "image_size = (224, 224)\n",
        "batch_size = 32\n",
        "\n",
        "datagen = ImageDataGenerator(\n",
        "    rescale=1./255,\n",
        "    validation_split=0.2\n",
        ")\n",
        "\n",
        "train_generator = datagen.flow_from_directory(\n",
        "    \"animal_data_file/animal_data\",\n",
        "    target_size=image_size,\n",
        "    batch_size=batch_size,\n",
        "    class_mode=\"categorical\",\n",
        "    subset=\"training\",\n",
        "    shuffle=True\n",
        ")\n",
        "\n",
        "val_generator = datagen.flow_from_directory(\n",
        "    \"animal_data_file/animal_data\",\n",
        "    target_size=image_size,\n",
        "    batch_size=batch_size,\n",
        "    class_mode=\"categorical\",\n",
        "    subset=\"validation\",\n",
        "    shuffle=False\n",
        ")\n",
        "\n",
        "num_classes = train_generator.num_classes"
      ],
      "metadata": {
        "colab": {
          "base_uri": "https://localhost:8080/"
        },
        "id": "QrGxDfIumyXA",
        "outputId": "d442fb6e-9d90-4955-edea-26897554d156"
      },
      "execution_count": 55,
      "outputs": [
        {
          "output_type": "stream",
          "name": "stdout",
          "text": [
            "Found 1561 images belonging to 15 classes.\n",
            "Found 383 images belonging to 15 classes.\n"
          ]
        }
      ]
    },
    {
      "cell_type": "markdown",
      "source": [
        "**3. Hypermodel using MobileNet**"
      ],
      "metadata": {
        "id": "jZ67oqylnHXX"
      }
    },
    {
      "cell_type": "code",
      "source": [
        "def build_cnn_model(hp):\n",
        "    base_model = VGG16(include_top=False, weights='imagenet', input_shape=image_size + (3,))\n",
        "    base_model.trainable = False  # Freeze base\n",
        "\n",
        "    model = Sequential()\n",
        "    model.add(base_model)\n",
        "    model.add(GlobalAveragePooling2D())\n",
        "\n",
        "    units = hp.Int(\"units\", min_value=64, max_value=256, step=32)\n",
        "    model.add(Dense(\n",
        "        units=units,\n",
        "        activation=hp.Choice(\"activation\", ['relu', 'tanh']),\n",
        "        kernel_initializer=hp.Choice(\"initializer\", ['glorot_uniform', 'he_normal']),\n",
        "        kernel_regularizer=regularizers.l2(\n",
        "            hp.Float(\"lambda\", 1e-4, 1e-2, sampling='log'))\n",
        "    ))\n",
        "\n",
        "    model.add(Dropout(hp.Float(\"dropout\", 0.2, 0.5, step=0.1)))\n",
        "    model.add(Dense(num_classes, activation='softmax'))\n",
        "\n",
        "    learning_rate = hp.Float(\"learning_rate\", 1e-4, 1e-2, sampling='log')\n",
        "    optimizer_choice = hp.Choice(\"optimizer\", ['adam', 'sgd', 'rmsprop'])\n",
        "\n",
        "    if optimizer_choice == 'adam':\n",
        "        optimizer = tf.keras.optimizers.Adam(learning_rate)\n",
        "    elif optimizer_choice == 'sgd':\n",
        "        optimizer = tf.keras.optimizers.SGD(learning_rate)\n",
        "    else:\n",
        "        optimizer = tf.keras.optimizers.RMSprop(learning_rate)\n",
        "\n",
        "    model.compile(\n",
        "        optimizer=optimizer,\n",
        "        loss='categorical_crossentropy',\n",
        "        metrics=['accuracy']\n",
        "    )\n",
        "    return model\n"
      ],
      "metadata": {
        "id": "ULMaPfkfmyzY"
      },
      "execution_count": 56,
      "outputs": []
    },
    {
      "cell_type": "markdown",
      "source": [
        "**4. Keras Tuner Setup**"
      ],
      "metadata": {
        "id": "GhdKNqaKnXIG"
      }
    },
    {
      "cell_type": "code",
      "source": [
        "tuner = kt.RandomSearch(\n",
        "    build_cnn_model,\n",
        "    objective='val_loss',\n",
        "    max_trials=10,\n",
        "    executions_per_trial=1,\n",
        "    directory='cnn_tuning',\n",
        "    project_name='VGG16_model'\n",
        ")\n",
        "\n",
        "early_stop = EarlyStopping(monitor='val_loss', patience=5)"
      ],
      "metadata": {
        "colab": {
          "base_uri": "https://localhost:8080/"
        },
        "id": "jdYPGKCunaFN",
        "outputId": "8e4c1583-2d87-4be4-bf7f-5bfa346cb942"
      },
      "execution_count": 57,
      "outputs": [
        {
          "output_type": "stream",
          "name": "stdout",
          "text": [
            "Downloading data from https://storage.googleapis.com/tensorflow/keras-applications/vgg16/vgg16_weights_tf_dim_ordering_tf_kernels_notop.h5\n",
            "\u001b[1m58889256/58889256\u001b[0m \u001b[32m━━━━━━━━━━━━━━━━━━━━\u001b[0m\u001b[37m\u001b[0m \u001b[1m3s\u001b[0m 0us/step\n"
          ]
        }
      ]
    },
    {
      "cell_type": "markdown",
      "source": [
        "**5. Start tuning**"
      ],
      "metadata": {
        "id": "_BE-oxlAne1G"
      }
    },
    {
      "cell_type": "code",
      "source": [
        "tuner.search(\n",
        "    train_generator,\n",
        "    validation_data=val_generator,\n",
        "    epochs=10,\n",
        "    callbacks=[early_stop],\n",
        "    verbose=2\n",
        ")"
      ],
      "metadata": {
        "colab": {
          "base_uri": "https://localhost:8080/"
        },
        "id": "U2MF6-6ankQF",
        "outputId": "ece8a1fe-3e59-4667-a2e4-98f5fc4f0ac9"
      },
      "execution_count": 58,
      "outputs": [
        {
          "output_type": "stream",
          "name": "stdout",
          "text": [
            "Trial 10 Complete [00h 02m 13s]\n",
            "val_loss: 1.9813034534454346\n",
            "\n",
            "Best val_loss So Far: 1.8218008279800415\n",
            "Total elapsed time: 00h 20m 46s\n"
          ]
        }
      ]
    },
    {
      "cell_type": "markdown",
      "source": [
        "**6. Save best model**"
      ],
      "metadata": {
        "id": "2uQlBaEHnu3s"
      }
    },
    {
      "cell_type": "code",
      "source": [
        "best_model = tuner.get_best_models(1)[0]\n",
        "best_hyperparams = tuner.get_best_hyperparameters(1)[0]\n",
        "\n",
        "print(\"\\nBest Hyperparameters:\")\n",
        "print(best_hyperparams.values)\n",
        "\n",
        "if not os.path.exists(\"model\"):\n",
        "    os.mkdir(\"model\")\n",
        "\n",
        "best_model.save(\"model/VGG16_best_tuned_model.h5\")"
      ],
      "metadata": {
        "colab": {
          "base_uri": "https://localhost:8080/"
        },
        "id": "atFrJIr_ny5r",
        "outputId": "7fbfb9b4-935d-4546-b931-aacc777f5c48"
      },
      "execution_count": 59,
      "outputs": [
        {
          "output_type": "stream",
          "name": "stderr",
          "text": [
            "/usr/local/lib/python3.11/dist-packages/keras/src/saving/saving_lib.py:757: UserWarning: Skipping variable loading for optimizer 'rmsprop', because it has 2 variables whereas the saved optimizer has 6 variables. \n",
            "  saveable.load_own_variables(weights_store.get(inner_path))\n",
            "WARNING:absl:You are saving your model as an HDF5 file via `model.save()` or `keras.saving.save_model(model)`. This file format is considered legacy. We recommend using instead the native Keras format, e.g. `model.save('my_model.keras')` or `keras.saving.save_model(model, 'my_model.keras')`. \n"
          ]
        },
        {
          "output_type": "stream",
          "name": "stdout",
          "text": [
            "\n",
            "Best Hyperparameters:\n",
            "{'units': 256, 'activation': 'relu', 'initializer': 'glorot_uniform', 'lambda': 0.0051112178288843175, 'dropout': 0.2, 'learning_rate': 0.0028298401894457986, 'optimizer': 'rmsprop'}\n"
          ]
        }
      ]
    },
    {
      "cell_type": "markdown",
      "source": [
        "**Evaluation**"
      ],
      "metadata": {
        "id": "GiHYRth2opqn"
      }
    },
    {
      "cell_type": "code",
      "source": [
        "from sklearn.metrics import confusion_matrix, classification_report, accuracy_score\n",
        "import numpy as np\n",
        "\n",
        "# Predict the class probabilities\n",
        "y_pred_train_prob = best_model.predict(train_generator)\n",
        "\n",
        "# Get the predicted class index (highest probability)\n",
        "y_pred_train = np.argmax(y_pred_train_prob, axis=1)\n",
        "\n",
        "# Get the true class labels\n",
        "y_train = train_generator.classes\n",
        "\n",
        "# Print evaluation metrics\n",
        "print(\"Confusion Matrix:\")\n",
        "print(confusion_matrix(y_train, y_pred_train))\n",
        "\n",
        "print(\"\\nClassification Report:\")\n",
        "class_labels = list(train_generator.class_indices.keys())  # Get class names\n",
        "print(classification_report(y_train, y_pred_train, target_names=class_labels))\n"
      ],
      "metadata": {
        "colab": {
          "base_uri": "https://localhost:8080/"
        },
        "id": "6dPYe7din82K",
        "outputId": "2b38cbe9-e548-472b-bdc1-5591f1ff4696"
      },
      "execution_count": 60,
      "outputs": [
        {
          "output_type": "stream",
          "name": "stdout",
          "text": [
            "\u001b[1m49/49\u001b[0m \u001b[32m━━━━━━━━━━━━━━━━━━━━\u001b[0m\u001b[37m\u001b[0m \u001b[1m9s\u001b[0m 174ms/step\n",
            "Confusion Matrix:\n",
            "[[32  4  5  3  5  6  9  5  5  3  5  2  1  8  7]\n",
            " [31  7  7  5  3  6 14  3  3  1  6  5  8  5  6]\n",
            " [33  5  4  2  2  5 16  7  6  3  3  3  1  6  3]\n",
            " [31  3  6  2  5  8  7  1 11  2  5  0  6 10  8]\n",
            " [29  7  4  4  3  4 11  7  8  2  4  6  3  6  4]\n",
            " [24  8  3  2  0  6 16  6  4  1  4  3  6  9  6]\n",
            " [37  5  7  3  3  1  7  6  4  4  5  3  5  5  9]\n",
            " [25  6  6  3  6  1 11  4  2  5  7  4  3 18  6]\n",
            " [32  9  3  3  3  7 17  4  3  2  3  3  2  5  8]\n",
            " [23  6  8  3  2 10 17  5  7  4  2  3  4  6  4]\n",
            " [27  5  7  5  5  2  7  9  2  2  1  6  9  9  5]\n",
            " [28  2  5  3  6  3 12  7  4  7  4  3  3 10  8]\n",
            " [32  7  9  6  1  7 10  3  2  2  4  6  4  6  9]\n",
            " [32  6  5  5  6  8 11  4  3  6  1  2  6  5  4]\n",
            " [26  5  4  4  5  6 15  3  1  9  6  1  5 11  9]]\n",
            "\n",
            "Classification Report:\n",
            "              precision    recall  f1-score   support\n",
            "\n",
            "        Bear       0.07      0.32      0.12       100\n",
            "        Bird       0.08      0.06      0.07       110\n",
            "         Cat       0.05      0.04      0.04        99\n",
            "         Cow       0.04      0.02      0.03       105\n",
            "        Deer       0.05      0.03      0.04       102\n",
            "         Dog       0.07      0.06      0.07        98\n",
            "     Dolphin       0.04      0.07      0.05       104\n",
            "    Elephant       0.05      0.04      0.04       107\n",
            "     Giraffe       0.05      0.03      0.04       104\n",
            "       Horse       0.08      0.04      0.05       104\n",
            "    Kangaroo       0.02      0.01      0.01       101\n",
            "        Lion       0.06      0.03      0.04       105\n",
            "       Panda       0.06      0.04      0.05       108\n",
            "       Tiger       0.04      0.05      0.04       104\n",
            "       Zebra       0.09      0.08      0.09       110\n",
            "\n",
            "    accuracy                           0.06      1561\n",
            "   macro avg       0.06      0.06      0.05      1561\n",
            "weighted avg       0.06      0.06      0.05      1561\n",
            "\n"
          ]
        }
      ]
    },
    {
      "cell_type": "code",
      "source": [
        "from tensorflow.keras.preprocessing.image import ImageDataGenerator\n",
        "\n",
        "\n",
        "test_datagen = ImageDataGenerator(rescale=1./255)\n",
        "\n",
        "test_generator = test_datagen.flow_from_directory(\n",
        "    'animal_data_file/animal_data',\n",
        "    target_size=(224, 224),\n",
        "    batch_size=32,\n",
        "    class_mode='categorical',\n",
        "    shuffle=False\n",
        ")\n"
      ],
      "metadata": {
        "colab": {
          "base_uri": "https://localhost:8080/"
        },
        "id": "E_XgIraQpv4Q",
        "outputId": "6a42b290-e490-4009-d1cd-3cdec2bd29c1"
      },
      "execution_count": 61,
      "outputs": [
        {
          "output_type": "stream",
          "name": "stdout",
          "text": [
            "Found 1944 images belonging to 15 classes.\n"
          ]
        }
      ]
    },
    {
      "cell_type": "code",
      "source": [
        "from sklearn.metrics import confusion_matrix, classification_report, accuracy_score\n",
        "import numpy as np\n",
        "\n",
        "# Step 1: Predict on test data\n",
        "y_pred_test_prob = best_model.predict(test_generator)\n",
        "\n",
        "# Step 2: Get the predicted class index (highest probability)\n",
        "y_pred_test = np.argmax(y_pred_test_prob, axis=1)\n",
        "\n",
        "# Step 3: Get the true class labels from the test generator\n",
        "y_test = test_generator.classes\n",
        "\n",
        "# Step 4: Class labels (same as training)\n",
        "class_labels = list(test_generator.class_indices.keys())\n",
        "\n",
        "# Step 5: Print metrics\n",
        "print(\"Confusion Matrix:\")\n",
        "print(confusion_matrix(y_test, y_pred_test))\n",
        "\n",
        "print(\"\\nClassification Report:\")\n",
        "print(classification_report(y_test, y_pred_test, target_names=class_labels))\n"
      ],
      "metadata": {
        "colab": {
          "base_uri": "https://localhost:8080/"
        },
        "id": "zHVVt2-Sn9J6",
        "outputId": "b2da8c97-d887-48db-e75e-a13d18008a6f"
      },
      "execution_count": 62,
      "outputs": [
        {
          "output_type": "stream",
          "name": "stderr",
          "text": [
            "/usr/local/lib/python3.11/dist-packages/keras/src/trainers/data_adapters/py_dataset_adapter.py:121: UserWarning: Your `PyDataset` class should call `super().__init__(**kwargs)` in its constructor. `**kwargs` can include `workers`, `use_multiprocessing`, `max_queue_size`. Do not pass these arguments to `fit()`, as they will be ignored.\n",
            "  self._warn_if_super_not_called()\n"
          ]
        },
        {
          "output_type": "stream",
          "name": "stdout",
          "text": [
            "\u001b[1m61/61\u001b[0m \u001b[32m━━━━━━━━━━━━━━━━━━━━\u001b[0m\u001b[37m\u001b[0m \u001b[1m18s\u001b[0m 301ms/step\n",
            "Confusion Matrix:\n",
            "[[115   0   1   1   0   2   5   1   0   0   0   0   0   0   0]\n",
            " [ 13  95   3   0   0   3  19   1   0   3   0   0   0   0   0]\n",
            " [ 40   0  73   0   0   3   5   0   0   0   0   1   1   0   0]\n",
            " [ 39   1   3  55   3   4  10   5   0   6   1   0   1   1   2]\n",
            " [ 30   1   2   2  56  10   7   0   3   5   4   0   0   6   1]\n",
            " [ 39   0   8   0   0  58   6   1   0   0   0   5   4   1   0]\n",
            " [ 14   0   0   0   0   0 115   0   0   0   0   0   0   0   0]\n",
            " [ 44   2   1   3   0   2   7  71   0   0   1   1   0   1   0]\n",
            " [ 32   2   0   1   3   1   5   1  79   0   4   0   0   1   0]\n",
            " [ 47   2   0   0   1   0  12   2   0  60   1   3   0   1   1]\n",
            " [ 37   3   4   0   1   4   8   4   3   2  56   0   0   4   0]\n",
            " [ 59   0   4   0   2   6   5   2   0   0   1  44   0   8   0]\n",
            " [ 32   0   5   0   0   9   9   0   0   0   0   2  77   1   0]\n",
            " [ 18   0   4   0   0   1   7   0   0   0   0   0   0  97   2]\n",
            " [  4   0   2   0   0   0   3   0   0   0   0   0   0  14 114]]\n",
            "\n",
            "Classification Report:\n",
            "              precision    recall  f1-score   support\n",
            "\n",
            "        Bear       0.20      0.92      0.33       125\n",
            "        Bird       0.90      0.69      0.78       137\n",
            "         Cat       0.66      0.59      0.63       123\n",
            "         Cow       0.89      0.42      0.57       131\n",
            "        Deer       0.85      0.44      0.58       127\n",
            "         Dog       0.56      0.48      0.52       122\n",
            "     Dolphin       0.52      0.89      0.65       129\n",
            "    Elephant       0.81      0.53      0.64       133\n",
            "     Giraffe       0.93      0.61      0.74       129\n",
            "       Horse       0.79      0.46      0.58       130\n",
            "    Kangaroo       0.82      0.44      0.58       126\n",
            "        Lion       0.79      0.34      0.47       131\n",
            "       Panda       0.93      0.57      0.71       135\n",
            "       Tiger       0.72      0.75      0.73       129\n",
            "       Zebra       0.95      0.83      0.89       137\n",
            "\n",
            "    accuracy                           0.60      1944\n",
            "   macro avg       0.75      0.60      0.63      1944\n",
            "weighted avg       0.76      0.60      0.63      1944\n",
            "\n"
          ]
        }
      ]
    },
    {
      "cell_type": "code",
      "source": [],
      "metadata": {
        "id": "Vutf27kJn9Xj"
      },
      "execution_count": null,
      "outputs": []
    },
    {
      "cell_type": "code",
      "source": [],
      "metadata": {
        "id": "UCpXK_8Ftp8E"
      },
      "execution_count": null,
      "outputs": []
    },
    {
      "cell_type": "code",
      "source": [],
      "metadata": {
        "id": "jt0dJuw1tqBK"
      },
      "execution_count": null,
      "outputs": []
    },
    {
      "cell_type": "code",
      "source": [
        "print(train_generator.class_indices)\n"
      ],
      "metadata": {
        "colab": {
          "base_uri": "https://localhost:8080/"
        },
        "id": "h2NiROj5tqEt",
        "outputId": "4dff0869-d05a-49d7-d0e1-ccad91b2ab93"
      },
      "execution_count": 63,
      "outputs": [
        {
          "output_type": "stream",
          "name": "stdout",
          "text": [
            "{'Bear': 0, 'Bird': 1, 'Cat': 2, 'Cow': 3, 'Deer': 4, 'Dog': 5, 'Dolphin': 6, 'Elephant': 7, 'Giraffe': 8, 'Horse': 9, 'Kangaroo': 10, 'Lion': 11, 'Panda': 12, 'Tiger': 13, 'Zebra': 14}\n"
          ]
        }
      ]
    },
    {
      "cell_type": "code",
      "source": [
        "train_generator = datagen.flow_from_directory(\n",
        "    \"animal_data_file/animal_data\",          # NOT the folder with all images directly inside\n",
        "    target_size=(224, 224),\n",
        "    batch_size=32,\n",
        "    class_mode='categorical',\n",
        "    subset='training',\n",
        "    shuffle=True\n",
        ")\n",
        "\n"
      ],
      "metadata": {
        "colab": {
          "base_uri": "https://localhost:8080/"
        },
        "id": "XwXoT0d9t3KW",
        "outputId": "672bbb9b-cc68-4680-9162-16b0379749fd"
      },
      "execution_count": 64,
      "outputs": [
        {
          "output_type": "stream",
          "name": "stdout",
          "text": [
            "Found 1561 images belonging to 15 classes.\n"
          ]
        }
      ]
    },
    {
      "cell_type": "code",
      "source": [
        "val_prob = best_model.predict(val_generator)\n",
        "val_pred = np.argmax(val_prob, axis=1)\n",
        "val_true = val_generator.classes\n",
        "\n",
        "from sklearn.metrics import classification_report\n",
        "print(classification_report(val_true, val_pred, target_names=class_labels))\n"
      ],
      "metadata": {
        "colab": {
          "base_uri": "https://localhost:8080/"
        },
        "id": "jTW6o3ePzpGV",
        "outputId": "aba89f34-f33f-4b13-9958-22cccc1d16ca"
      },
      "execution_count": 65,
      "outputs": [
        {
          "output_type": "stream",
          "name": "stdout",
          "text": [
            "\u001b[1m12/12\u001b[0m \u001b[32m━━━━━━━━━━━━━━━━━━━━\u001b[0m\u001b[37m\u001b[0m \u001b[1m2s\u001b[0m 193ms/step\n",
            "              precision    recall  f1-score   support\n",
            "\n",
            "        Bear       0.19      0.92      0.32        25\n",
            "        Bird       0.71      0.56      0.62        27\n",
            "         Cat       0.37      0.42      0.39        24\n",
            "         Cow       0.56      0.19      0.29        26\n",
            "        Deer       0.91      0.40      0.56        25\n",
            "         Dog       0.35      0.33      0.34        24\n",
            "     Dolphin       0.49      0.84      0.62        25\n",
            "    Elephant       0.79      0.42      0.55        26\n",
            "     Giraffe       1.00      0.80      0.89        25\n",
            "       Horse       0.43      0.38      0.41        26\n",
            "    Kangaroo       0.75      0.24      0.36        25\n",
            "        Lion       0.67      0.15      0.25        26\n",
            "       Panda       0.88      0.56      0.68        27\n",
            "       Tiger       0.69      0.44      0.54        25\n",
            "       Zebra       0.96      0.85      0.90        27\n",
            "\n",
            "    accuracy                           0.50       383\n",
            "   macro avg       0.65      0.50      0.51       383\n",
            "weighted avg       0.65      0.50      0.52       383\n",
            "\n"
          ]
        }
      ]
    },
    {
      "cell_type": "markdown",
      "source": [
        "### Evaluate Accuracy on Validation/Test Data"
      ],
      "metadata": {
        "id": "WzD3oQph30jn"
      }
    },
    {
      "cell_type": "code",
      "source": [
        "val_loss, val_accuracy = best_model.evaluate(val_generator, verbose=1)\n",
        "\n",
        "print(f\"Validation Accuracy: {val_accuracy * 100:.2f}%\")\n",
        "print(f\"Validation Loss: {val_loss:.4f}\")\n"
      ],
      "metadata": {
        "colab": {
          "base_uri": "https://localhost:8080/"
        },
        "id": "RaqrK3_s40O9",
        "outputId": "7d65b46d-a45c-4f66-e78a-272af3609a3a"
      },
      "execution_count": 66,
      "outputs": [
        {
          "output_type": "stream",
          "name": "stdout",
          "text": [
            "\u001b[1m12/12\u001b[0m \u001b[32m━━━━━━━━━━━━━━━━━━━━\u001b[0m\u001b[37m\u001b[0m \u001b[1m4s\u001b[0m 219ms/step - accuracy: 0.5441 - loss: 1.7450\n",
            "Validation Accuracy: 50.13%\n",
            "Validation Loss: 1.8218\n"
          ]
        }
      ]
    }
  ],
  "metadata": {
    "accelerator": "GPU",
    "colab": {
      "gpuType": "T4",
      "provenance": []
    },
    "kernelspec": {
      "display_name": "Python 3",
      "name": "python3"
    },
    "language_info": {
      "name": "python"
    }
  },
  "nbformat": 4,
  "nbformat_minor": 0
}